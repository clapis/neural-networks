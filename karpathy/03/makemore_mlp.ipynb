{
 "cells": [
  {
   "cell_type": "markdown",
   "metadata": {},
   "source": [
    "### Character-Level Language Model using MLP\n",
    "\n",
    "Let's implement our character-level language model now with a modelling approach following:\n",
    "\n",
    "https://www.jmlr.org/papers/volume3/bengio03a/bengio03a.pdf\n",
    "\n",
    "![arch](./bdvj.png)"
   ]
  },
  {
   "cell_type": "code",
   "execution_count": 1,
   "metadata": {},
   "outputs": [],
   "source": [
    "import torch\n",
    "import torch.nn.functional as F\n",
    "import matplotlib.pyplot as plt\n",
    "%matplotlib inline"
   ]
  },
  {
   "cell_type": "markdown",
   "metadata": {},
   "source": [
    "Loading our dataset:"
   ]
  },
  {
   "cell_type": "code",
   "execution_count": 2,
   "metadata": {},
   "outputs": [
    {
     "data": {
      "text/plain": [
       "['emma',\n",
       " 'olivia',\n",
       " 'ava',\n",
       " 'isabella',\n",
       " 'sophia',\n",
       " 'charlotte',\n",
       " 'mia',\n",
       " 'amelia',\n",
       " 'harper',\n",
       " 'evelyn']"
      ]
     },
     "execution_count": 2,
     "metadata": {},
     "output_type": "execute_result"
    }
   ],
   "source": [
    "words = open('../names.txt', 'r').read().splitlines()\n",
    "words[:10]"
   ]
  },
  {
   "cell_type": "code",
   "execution_count": 3,
   "metadata": {},
   "outputs": [],
   "source": [
    "chars = sorted(['.'] + list(set(char for word in words for char in word)))\n",
    "\n",
    "itoc = { i:x for i,x in enumerate(chars) }\n",
    "ctoi = { x:i for i,x in enumerate(chars) }"
   ]
  },
  {
   "cell_type": "markdown",
   "metadata": {},
   "source": [
    "Let's prepare our inputs and labels using 3 characters as input to predict the next character. Eg. `emma`\n",
    "```\n",
    "... ---> e\n",
    "..e ---> m\n",
    ".em ---> m\n",
    "emm ---> a\n",
    "mma ---> .\n",
    "```"
   ]
  },
  {
   "cell_type": "code",
   "execution_count": 4,
   "metadata": {},
   "outputs": [
    {
     "data": {
      "text/plain": [
       "(torch.Size([16, 3]), torch.Size([16]))"
      ]
     },
     "execution_count": 4,
     "metadata": {},
     "output_type": "execute_result"
    }
   ],
   "source": [
    "block_size = 3 # context length: number of characters we take to predict the next one\n",
    "\n",
    "def build_dataset(words, block_size):\n",
    "\n",
    "    X, Y = [], []\n",
    "\n",
    "    for word in words:\n",
    "        context = [0] * block_size # '...'\n",
    "        for ch in word + '.':\n",
    "            idx = ctoi[ch]\n",
    "            X.append(context)\n",
    "            Y.append(idx)\n",
    "            # print(''.join(itoc[i] for i in context), '--->', itoc[idx])\n",
    "            context = context[1:] + [idx]\n",
    "\n",
    "    X = torch.tensor(X)\n",
    "    Y = torch.tensor(Y)\n",
    "\n",
    "    return X,Y\n",
    "\n",
    "X, Y = build_dataset(words[:3], block_size)\n",
    "\n",
    "X.shape, Y.shape\n"
   ]
  },
  {
   "cell_type": "markdown",
   "metadata": {},
   "source": [
    "Now let's start by creating the embedding lookup table using 2 dimensions:"
   ]
  },
  {
   "cell_type": "code",
   "execution_count": 5,
   "metadata": {},
   "outputs": [
    {
     "data": {
      "text/plain": [
       "tensor([[ 1.5390, -1.3958],\n",
       "        [ 1.0602,  0.3633],\n",
       "        [ 0.9362, -0.2975],\n",
       "        [ 0.6853,  0.0622],\n",
       "        [ 0.1267, -2.2594],\n",
       "        [-0.0439,  0.0935],\n",
       "        [ 0.0728, -0.0624],\n",
       "        [ 1.1009, -0.6441],\n",
       "        [ 0.1609, -0.7486],\n",
       "        [ 1.8253, -1.8674],\n",
       "        [ 1.2751, -0.7732],\n",
       "        [ 0.3542,  0.4279],\n",
       "        [-2.1548, -0.0850],\n",
       "        [-0.2476, -2.2704],\n",
       "        [-0.7604,  0.2083],\n",
       "        [-0.1890, -0.4363],\n",
       "        [ 1.8078, -1.5431],\n",
       "        [ 0.4769,  1.3843],\n",
       "        [-0.5181, -1.2192],\n",
       "        [-1.3803, -0.2858],\n",
       "        [ 0.7781, -0.8165],\n",
       "        [-0.1957,  1.2192],\n",
       "        [-0.2475,  0.1603],\n",
       "        [ 0.7357,  0.3595],\n",
       "        [-0.8160, -0.0811],\n",
       "        [-0.0435, -0.2257],\n",
       "        [ 0.5612, -1.0780]])"
      ]
     },
     "execution_count": 5,
     "metadata": {},
     "output_type": "execute_result"
    }
   ],
   "source": [
    "C = torch.randn(len(chars), 2)\n",
    "C"
   ]
  },
  {
   "cell_type": "markdown",
   "metadata": {},
   "source": [
    "And now we can use PyTorch indexing to embeed the inputs:"
   ]
  },
  {
   "cell_type": "code",
   "execution_count": 6,
   "metadata": {},
   "outputs": [
    {
     "data": {
      "text/plain": [
       "(tensor([[[ 1.5390, -1.3958],\n",
       "          [ 1.5390, -1.3958],\n",
       "          [ 1.5390, -1.3958]],\n",
       " \n",
       "         [[ 1.5390, -1.3958],\n",
       "          [ 1.5390, -1.3958],\n",
       "          [-0.0439,  0.0935]],\n",
       " \n",
       "         [[ 1.5390, -1.3958],\n",
       "          [-0.0439,  0.0935],\n",
       "          [-0.2476, -2.2704]],\n",
       " \n",
       "         [[-0.0439,  0.0935],\n",
       "          [-0.2476, -2.2704],\n",
       "          [-0.2476, -2.2704]],\n",
       " \n",
       "         [[-0.2476, -2.2704],\n",
       "          [-0.2476, -2.2704],\n",
       "          [ 1.0602,  0.3633]],\n",
       " \n",
       "         [[ 1.5390, -1.3958],\n",
       "          [ 1.5390, -1.3958],\n",
       "          [ 1.5390, -1.3958]],\n",
       " \n",
       "         [[ 1.5390, -1.3958],\n",
       "          [ 1.5390, -1.3958],\n",
       "          [-0.1890, -0.4363]],\n",
       " \n",
       "         [[ 1.5390, -1.3958],\n",
       "          [-0.1890, -0.4363],\n",
       "          [-2.1548, -0.0850]],\n",
       " \n",
       "         [[-0.1890, -0.4363],\n",
       "          [-2.1548, -0.0850],\n",
       "          [ 1.8253, -1.8674]],\n",
       " \n",
       "         [[-2.1548, -0.0850],\n",
       "          [ 1.8253, -1.8674],\n",
       "          [-0.2475,  0.1603]],\n",
       " \n",
       "         [[ 1.8253, -1.8674],\n",
       "          [-0.2475,  0.1603],\n",
       "          [ 1.8253, -1.8674]],\n",
       " \n",
       "         [[-0.2475,  0.1603],\n",
       "          [ 1.8253, -1.8674],\n",
       "          [ 1.0602,  0.3633]],\n",
       " \n",
       "         [[ 1.5390, -1.3958],\n",
       "          [ 1.5390, -1.3958],\n",
       "          [ 1.5390, -1.3958]],\n",
       " \n",
       "         [[ 1.5390, -1.3958],\n",
       "          [ 1.5390, -1.3958],\n",
       "          [ 1.0602,  0.3633]],\n",
       " \n",
       "         [[ 1.5390, -1.3958],\n",
       "          [ 1.0602,  0.3633],\n",
       "          [-0.2475,  0.1603]],\n",
       " \n",
       "         [[ 1.0602,  0.3633],\n",
       "          [-0.2475,  0.1603],\n",
       "          [ 1.0602,  0.3633]]]),\n",
       " torch.Size([16, 3, 2]))"
      ]
     },
     "execution_count": 6,
     "metadata": {},
     "output_type": "execute_result"
    }
   ],
   "source": [
    "emb = C[X]\n",
    "emb, emb.shape\n",
    "\n",
    "# torch.Size([16, 3, 2])) \n",
    "# 16 examples\n",
    "# 3 characters per input\n",
    "# 2 dimensions for each character\n"
   ]
  },
  {
   "cell_type": "markdown",
   "metadata": {},
   "source": [
    "Now let's move on to the hidden layer (`tanh` in the reference model picture):"
   ]
  },
  {
   "cell_type": "code",
   "execution_count": 7,
   "metadata": {},
   "outputs": [
    {
     "data": {
      "text/plain": [
       "torch.Size([16, 100])"
      ]
     },
     "execution_count": 7,
     "metadata": {},
     "output_type": "execute_result"
    }
   ],
   "source": [
    "# number of inputs: 3 * 2\n",
    "# numer of outputs is arbitrarily chosen and can tweak it later to improve our model\n",
    "W1 = torch.randn(emb.shape[1] * emb.shape[2], 100) # (6, 100)\n",
    "b1 = torch.randn(100)\n",
    "\n",
    "# manipulate the emb view: (16, 3, 2) becomes (16, 6)\n",
    "# so that we can perform the multiplication (16,6)@(6,100): (16,100)\n",
    "h = (emb.view(-1,6)@W1 + b1).tanh()\n",
    "h.shape"
   ]
  },
  {
   "cell_type": "code",
   "execution_count": 8,
   "metadata": {},
   "outputs": [
    {
     "data": {
      "text/plain": [
       "torch.Size([16, 27])"
      ]
     },
     "execution_count": 8,
     "metadata": {},
     "output_type": "execute_result"
    }
   ],
   "source": [
    "\n",
    "W2 = torch.randn(h.shape[1], len(chars))\n",
    "b2 = torch.randn(len(chars))\n",
    "\n",
    "logits = h@W2 + b2\n",
    "logits.shape"
   ]
  },
  {
   "cell_type": "markdown",
   "metadata": {},
   "source": [
    "Normalizing logits into probability distribution (softmax):"
   ]
  },
  {
   "cell_type": "code",
   "execution_count": 9,
   "metadata": {},
   "outputs": [
    {
     "data": {
      "text/plain": [
       "tensor(1.)"
      ]
     },
     "execution_count": 9,
     "metadata": {},
     "output_type": "execute_result"
    }
   ],
   "source": [
    "counts = logits.exp()\n",
    "probs = counts / counts.sum(1, keepdim=True)\n",
    "\n",
    "# each row should add up to 1\n",
    "probs[5].sum()"
   ]
  },
  {
   "cell_type": "markdown",
   "metadata": {},
   "source": [
    "For each example input let's check the probability currently assigned by the neural network for the correct label:"
   ]
  },
  {
   "cell_type": "code",
   "execution_count": 10,
   "metadata": {},
   "outputs": [
    {
     "data": {
      "text/plain": [
       "tensor([5.3511e-14, 8.3577e-07, 1.2755e-07, 7.6716e-11, 1.1495e-05, 5.0762e-12,\n",
       "        1.0755e-07, 3.5957e-02, 5.3336e-10, 7.7333e-04, 5.3547e-03, 1.0390e-06,\n",
       "        1.9332e-08, 9.2037e-10, 4.3509e-14, 8.5796e-08])"
      ]
     },
     "execution_count": 10,
     "metadata": {},
     "output_type": "execute_result"
    }
   ],
   "source": [
    "probs[torch.arange(len(probs)), Y]"
   ]
  },
  {
   "cell_type": "markdown",
   "metadata": {},
   "source": [
    "And now defining our loss function as the negative log likelihood:"
   ]
  },
  {
   "cell_type": "code",
   "execution_count": 11,
   "metadata": {},
   "outputs": [
    {
     "data": {
      "text/plain": [
       "tensor(17.0999)"
      ]
     },
     "execution_count": 11,
     "metadata": {},
     "output_type": "execute_result"
    }
   ],
   "source": [
    "loss = -probs[torch.arange(len(probs)), Y].log().mean()\n",
    "loss"
   ]
  },
  {
   "cell_type": "markdown",
   "metadata": {},
   "source": [
    "We can also replace the the softmax & loss calculation with PyTorch's `cross_entropy`:"
   ]
  },
  {
   "cell_type": "code",
   "execution_count": 12,
   "metadata": {},
   "outputs": [
    {
     "data": {
      "text/plain": [
       "tensor(17.0999)"
      ]
     },
     "execution_count": 12,
     "metadata": {},
     "output_type": "execute_result"
    }
   ],
   "source": [
    "loss = F.cross_entropy(logits, Y)\n",
    "loss"
   ]
  },
  {
   "cell_type": "markdown",
   "metadata": {},
   "source": [
    "Alright, let's now put it all together:"
   ]
  },
  {
   "cell_type": "code",
   "execution_count": 13,
   "metadata": {},
   "outputs": [
    {
     "data": {
      "text/plain": [
       "11897"
      ]
     },
     "execution_count": 13,
     "metadata": {},
     "output_type": "execute_result"
    }
   ],
   "source": [
    "g = torch.Generator().manual_seed(420)\n",
    "\n",
    "# hyper parameters\n",
    "context_length = 3 # number of characters used to predict next character\n",
    "c_dim = 10 # number of dimensions used for character embedding\n",
    "h_dim = 200 # number of neurons in the hidden layer\n",
    "\n",
    "# parameters\n",
    "C = torch.randn(len(chars), c_dim, generator=g) #(27,2)\n",
    "W1 = torch.randn(context_length * c_dim, h_dim, generator=g) #(6, 300)\n",
    "b1 = torch.randn(h_dim, generator=g) \n",
    "W2 = torch.randn(h_dim, len(chars), generator=g) #(300, 27)\n",
    "b2 = torch.randn(len(chars), generator=g)\n",
    "\n",
    "parameters = [C, W1, b1, W2, b2]\n",
    "\n",
    "for p in parameters:\n",
    "    p.requires_grad = True\n",
    "\n",
    "# total number of parameters of this model\n",
    "sum(p.nelement() for p in parameters)"
   ]
  },
  {
   "cell_type": "code",
   "execution_count": 14,
   "metadata": {},
   "outputs": [
    {
     "data": {
      "text/plain": [
       "(32033, 182625, 22655, 22866)"
      ]
     },
     "execution_count": 14,
     "metadata": {},
     "output_type": "execute_result"
    }
   ],
   "source": [
    "import random\n",
    "random.seed(42)\n",
    "random.shuffle(words)\n",
    "\n",
    "n1 = int(0.8 * len(words))\n",
    "n2 = int(0.9 * len(words))\n",
    "\n",
    "X_train, Y_train = build_dataset(words[:n1], context_length)\n",
    "X_valid, Y_valid = build_dataset(words[n1:n2], context_length)\n",
    "X_test, Y_test = build_dataset(words[n2:], context_length)\n",
    "\n",
    "len(words), len(X_train), len(X_valid), len(X_test)"
   ]
  },
  {
   "cell_type": "code",
   "execution_count": 15,
   "metadata": {},
   "outputs": [],
   "source": [
    "epochs = 200000\n",
    "batch_size = 32\n",
    "loss_x, loss_y = [], []\n",
    "\n",
    "for epoch in range(epochs):\n",
    "\n",
    "    # mini batch construct\n",
    "    ix = torch.randint(0, len(X_train), (batch_size,))\n",
    "\n",
    "    # forward pass\n",
    "    emb = C[X_train[ix]]\n",
    "    h = (emb.view(-1, context_length * c_dim)@W1 + b1).tanh()\n",
    "    logits = h@W2 + b2\n",
    "    loss = F.cross_entropy(logits, Y_train[ix])\n",
    "\n",
    "    # track loss\n",
    "    loss_x.append(epoch)\n",
    "    loss_y.append(loss.log10().item())\n",
    "\n",
    "    # backward pass\n",
    "    for p in parameters:\n",
    "        p.grad = None\n",
    "    loss.backward()\n",
    "\n",
    "    # update params\n",
    "    for p in parameters:\n",
    "        lr = 0.1 - 0.1 * epoch / epochs \n",
    "        p.data -= lr * p.grad\n"
   ]
  },
  {
   "cell_type": "code",
   "execution_count": 16,
   "metadata": {},
   "outputs": [
    {
     "data": {
      "text/plain": [
       "[<matplotlib.lines.Line2D at 0x146d77d10>]"
      ]
     },
     "execution_count": 16,
     "metadata": {},
     "output_type": "execute_result"
    },
    {
     "data": {
      "image/png": "[encoded data removed]",
      "text/plain": [
       "<Figure size 640x480 with 1 Axes>"
      ]
     },
     "metadata": {},
     "output_type": "display_data"
    }
   ],
   "source": [
    "plt.plot(loss_x, loss_y)"
   ]
  },
  {
   "cell_type": "code",
   "execution_count": 17,
   "metadata": {},
   "outputs": [],
   "source": [
    "def calc_loss(x, y):\n",
    "    emb = C[x]\n",
    "    h = (emb.view(-1, context_length * c_dim)@W1 + b1).tanh()\n",
    "    logits = h@W2 + b2\n",
    "    return F.cross_entropy(logits, y)"
   ]
  },
  {
   "cell_type": "code",
   "execution_count": 18,
   "metadata": {},
   "outputs": [
    {
     "data": {
      "text/plain": [
       "(tensor(2.1228, grad_fn=<NllLossBackward0>),\n",
       " tensor(2.1584, grad_fn=<NllLossBackward0>),\n",
       " tensor(2.1640, grad_fn=<NllLossBackward0>))"
      ]
     },
     "execution_count": 18,
     "metadata": {},
     "output_type": "execute_result"
    }
   ],
   "source": [
    "calc_loss(X_train, Y_train), calc_loss(X_valid, Y_valid), calc_loss(X_test, Y_test)"
   ]
  },
  {
   "cell_type": "markdown",
   "metadata": {},
   "source": [
    "Let's visualize our embeddings lookup table (that's only possible when `c_dim` is `2`).\n",
    "\n",
    "_Note how the vowels are clustered together and how the character `q` is isolated._"
   ]
  },
  {
   "cell_type": "code",
   "execution_count": 19,
   "metadata": {},
   "outputs": [
    {
     "data": {
      "image/png": "[encoded data removed]",
      "text/plain": [
       "<Figure size 800x800 with 1 Axes>"
      ]
     },
     "metadata": {},
     "output_type": "display_data"
    }
   ],
   "source": [
    "plt.figure(figsize=(8,8))\n",
    "plt.scatter(C[:,0].data, C[:,1].data, s=200)\n",
    "\n",
    "for i in range(C.shape[0]):\n",
    "    plt.text(C[i,0].item(), C[i,1].item(), itoc[i], ha=\"center\", va=\"center\", color=\"white\")\n",
    "\n",
    "plt.grid('minor')"
   ]
  },
  {
   "cell_type": "markdown",
   "metadata": {},
   "source": [
    "Sampling words from the model:"
   ]
  },
  {
   "cell_type": "code",
   "execution_count": 20,
   "metadata": {},
   "outputs": [
    {
     "name": "stdout",
     "output_type": "stream",
     "text": [
      "jamiance.\n",
      "magaiga.\n",
      "amorashri.\n",
      "vihe.\n",
      "zahideikahla.\n",
      "anayla.\n",
      "ros.\n",
      "veth.\n",
      "elmana.\n",
      "eslani.\n",
      "arie.\n",
      "beika.\n",
      "isrick.\n",
      "peylon.\n",
      "mattyta.\n",
      "evel.\n",
      "yemzia.\n",
      "maela.\n",
      "ellihua.\n",
      "juhira.\n"
     ]
    }
   ],
   "source": [
    "for _ in range(20):\n",
    "\n",
    "    output = []\n",
    "    \n",
    "    context = [0] * context_length\n",
    "\n",
    "    while True:\n",
    "        emb = C[context]\n",
    "        h = (emb.view(-1, context_length * c_dim)@W1 + b1).tanh()\n",
    "        logits = h@W2 + b2\n",
    "        probs = F.softmax(logits, dim=1)\n",
    "        ix = torch.multinomial(probs, num_samples=1).item()\n",
    "        context = context[1:] + [ix]\n",
    "        output.append(ix)\n",
    "\n",
    "        if ix == 0: break\n",
    "\n",
    "    print(''.join(itoc[i] for i in output)) "
   ]
  }
 ],
 "metadata": {
  "kernelspec": {
   "display_name": "ds",
   "language": "python",
   "name": "python3"
  },
  "language_info": {
   "codemirror_mode": {
    "name": "ipython",
    "version": 3
   },
   "file_extension": ".py",
   "mimetype": "text/x-python",
   "name": "python",
   "nbconvert_exporter": "python",
   "pygments_lexer": "ipython3",
   "version": "3.12.1"
  }
 },
 "nbformat": 4,
 "nbformat_minor": 2
}
