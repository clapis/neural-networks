{
 "cells": [
  {
   "cell_type": "markdown",
   "metadata": {},
   "source": [
    "### Digit Classifier"
   ]
  },
  {
   "cell_type": "code",
   "execution_count": 1,
   "metadata": {},
   "outputs": [],
   "source": [
    "from fastai.vision.all import *\n",
    "\n",
    "matplotlib.rc('image', cmap='Greys')"
   ]
  },
  {
   "cell_type": "markdown",
   "metadata": {},
   "source": [
    "Loading our dataset:"
   ]
  },
  {
   "cell_type": "code",
   "execution_count": 2,
   "metadata": {},
   "outputs": [],
   "source": [
    "path = untar_data(URLs.MNIST_SAMPLE)"
   ]
  },
  {
   "cell_type": "code",
   "execution_count": 3,
   "metadata": {},
   "outputs": [],
   "source": [
    "threes = (path/'train'/'3').ls().sorted()\n",
    "sevens = (path/'train'/'7').ls().sorted()"
   ]
  },
  {
   "cell_type": "markdown",
   "metadata": {},
   "source": [
    "Sampling one of the images from the dataset:"
   ]
  },
  {
   "cell_type": "code",
   "execution_count": 4,
   "metadata": {},
   "outputs": [
    {
     "data": {
      "image/jpeg": "[encoded data removed]",
      "image/png": "[encoded data removed]",
      "text/plain": [
       "<PIL.PngImagePlugin.PngImageFile image mode=L size=28x28>"
      ]
     },
     "execution_count": 4,
     "metadata": {},
     "output_type": "execute_result"
    }
   ],
   "source": [
    "im3 = Image.open(threes[1])\n",
    "im3"
   ]
  },
  {
   "cell_type": "markdown",
   "metadata": {},
   "source": [
    "Using a Dataframe to visualize the image values:"
   ]
  },
  {
   "cell_type": "code",
   "execution_count": 5,
   "metadata": {},
   "outputs": [
    {
     "data": {
      "text/html": [
       "<style type=\"text/css\">\n",
       "#T_49677_row0_col0, #T_49677_row0_col1, #T_49677_row0_col2, #T_49677_row0_col3, #T_49677_row0_col4, #T_49677_row0_col5, #T_49677_row0_col6, #T_49677_row0_col7, #T_49677_row0_col8, #T_49677_row0_col9, #T_49677_row0_col10, #T_49677_row0_col11, #T_49677_row0_col12, #T_49677_row0_col13, #T_49677_row0_col14, #T_49677_row0_col15, #T_49677_row0_col16, #T_49677_row1_col0, #T_49677_row1_col1, #T_49677_row1_col2, #T_49677_row1_col3, #T_49677_row1_col14, #T_49677_row1_col15, #T_49677_row1_col16, #T_49677_row2_col0, #T_49677_row2_col1, #T_49677_row2_col14, #T_49677_row2_col15, #T_49677_row2_col16, #T_49677_row3_col14, #T_49677_row3_col15, #T_49677_row3_col16, #T_49677_row4_col5, #T_49677_row4_col6, #T_49677_row4_col7, #T_49677_row4_col8, #T_49677_row4_col9, #T_49677_row4_col14, #T_49677_row4_col15, #T_49677_row4_col16, #T_49677_row5_col4, #T_49677_row5_col5, #T_49677_row5_col6, #T_49677_row5_col7, #T_49677_row5_col8, #T_49677_row5_col14, #T_49677_row5_col15, #T_49677_row5_col16, #T_49677_row6_col0, #T_49677_row6_col1, #T_49677_row6_col2, #T_49677_row6_col3, #T_49677_row6_col4, #T_49677_row6_col5, #T_49677_row6_col6, #T_49677_row6_col7, #T_49677_row6_col8, #T_49677_row6_col13, #T_49677_row6_col14, #T_49677_row6_col15, #T_49677_row6_col16, #T_49677_row7_col0, #T_49677_row7_col1, #T_49677_row7_col2, #T_49677_row7_col3, #T_49677_row7_col4, #T_49677_row7_col5, #T_49677_row7_col12, #T_49677_row7_col13, #T_49677_row7_col14, #T_49677_row7_col15, #T_49677_row7_col16, #T_49677_row8_col0, #T_49677_row8_col1, #T_49677_row8_col2, #T_49677_row8_col3, #T_49677_row8_col12, #T_49677_row8_col13, #T_49677_row8_col14, #T_49677_row8_col15, #T_49677_row8_col16, #T_49677_row9_col0, #T_49677_row9_col1, #T_49677_row9_col2, #T_49677_row9_col3, #T_49677_row9_col15, #T_49677_row9_col16, #T_49677_row10_col0, #T_49677_row10_col1, #T_49677_row10_col2, #T_49677_row10_col3, #T_49677_row10_col4, #T_49677_row10_col5, #T_49677_row10_col16, #T_49677_row11_col0, #T_49677_row11_col1, #T_49677_row11_col2, #T_49677_row11_col3, #T_49677_row11_col4, #T_49677_row11_col5, #T_49677_row11_col6, #T_49677_row11_col7, #T_49677_row11_col8, #T_49677_row11_col16, #T_49677_row12_col0, #T_49677_row12_col1, #T_49677_row12_col2, #T_49677_row12_col3, #T_49677_row12_col4, #T_49677_row12_col5, #T_49677_row12_col6, #T_49677_row12_col7, #T_49677_row12_col8, #T_49677_row12_col9, #T_49677_row12_col10, #T_49677_row12_col11, #T_49677_row12_col16, #T_49677_row13_col0, #T_49677_row13_col1, #T_49677_row13_col2, #T_49677_row13_col3, #T_49677_row13_col4, #T_49677_row13_col5, #T_49677_row13_col6, #T_49677_row13_col7, #T_49677_row13_col8, #T_49677_row13_col9, #T_49677_row13_col10, #T_49677_row13_col11, #T_49677_row13_col16 {\n",
       "  font-size: 10pt;\n",
       "  background-color: #ffffff;\n",
       "  color: #000000;\n",
       "}\n",
       "#T_49677_row1_col4 {\n",
       "  font-size: 10pt;\n",
       "  background-color: #efefef;\n",
       "  color: #000000;\n",
       "}\n",
       "#T_49677_row1_col5, #T_49677_row1_col12 {\n",
       "  font-size: 10pt;\n",
       "  background-color: #7c7c7c;\n",
       "  color: #f1f1f1;\n",
       "}\n",
       "#T_49677_row1_col6 {\n",
       "  font-size: 10pt;\n",
       "  background-color: #4a4a4a;\n",
       "  color: #f1f1f1;\n",
       "}\n",
       "#T_49677_row1_col7, #T_49677_row1_col8, #T_49677_row1_col9, #T_49677_row2_col4, #T_49677_row2_col5, #T_49677_row2_col6, #T_49677_row2_col10, #T_49677_row2_col11, #T_49677_row2_col12, #T_49677_row3_col3, #T_49677_row3_col11, #T_49677_row3_col12, #T_49677_row4_col0, #T_49677_row4_col1, #T_49677_row4_col2, #T_49677_row4_col11, #T_49677_row4_col12, #T_49677_row5_col11, #T_49677_row6_col10, #T_49677_row9_col10, #T_49677_row10_col10, #T_49677_row10_col11, #T_49677_row10_col12, #T_49677_row10_col13, #T_49677_row11_col12, #T_49677_row11_col13, #T_49677_row11_col14, #T_49677_row12_col13, #T_49677_row12_col14, #T_49677_row12_col15, #T_49677_row13_col13, #T_49677_row13_col14 {\n",
       "  font-size: 10pt;\n",
       "  background-color: #000000;\n",
       "  color: #f1f1f1;\n",
       "}\n",
       "#T_49677_row1_col10 {\n",
       "  font-size: 10pt;\n",
       "  background-color: #606060;\n",
       "  color: #f1f1f1;\n",
       "}\n",
       "#T_49677_row1_col11 {\n",
       "  font-size: 10pt;\n",
       "  background-color: #4d4d4d;\n",
       "  color: #f1f1f1;\n",
       "}\n",
       "#T_49677_row1_col13 {\n",
       "  font-size: 10pt;\n",
       "  background-color: #bbbbbb;\n",
       "  color: #000000;\n",
       "}\n",
       "#T_49677_row2_col2 {\n",
       "  font-size: 10pt;\n",
       "  background-color: #e4e4e4;\n",
       "  color: #000000;\n",
       "}\n",
       "#T_49677_row2_col3, #T_49677_row8_col5 {\n",
       "  font-size: 10pt;\n",
       "  background-color: #6b6b6b;\n",
       "  color: #f1f1f1;\n",
       "}\n",
       "#T_49677_row2_col7, #T_49677_row2_col13, #T_49677_row3_col13 {\n",
       "  font-size: 10pt;\n",
       "  background-color: #171717;\n",
       "  color: #f1f1f1;\n",
       "}\n",
       "#T_49677_row2_col8, #T_49677_row3_col10 {\n",
       "  font-size: 10pt;\n",
       "  background-color: #4b4b4b;\n",
       "  color: #f1f1f1;\n",
       "}\n",
       "#T_49677_row2_col9, #T_49677_row7_col9, #T_49677_row8_col7, #T_49677_row8_col9, #T_49677_row9_col7, #T_49677_row9_col9 {\n",
       "  font-size: 10pt;\n",
       "  background-color: #010101;\n",
       "  color: #f1f1f1;\n",
       "}\n",
       "#T_49677_row3_col0 {\n",
       "  font-size: 10pt;\n",
       "  background-color: #272727;\n",
       "  color: #f1f1f1;\n",
       "}\n",
       "#T_49677_row3_col1 {\n",
       "  font-size: 10pt;\n",
       "  background-color: #0a0a0a;\n",
       "  color: #f1f1f1;\n",
       "}\n",
       "#T_49677_row3_col2 {\n",
       "  font-size: 10pt;\n",
       "  background-color: #050505;\n",
       "  color: #f1f1f1;\n",
       "}\n",
       "#T_49677_row3_col4 {\n",
       "  font-size: 10pt;\n",
       "  background-color: #333333;\n",
       "  color: #f1f1f1;\n",
       "}\n",
       "#T_49677_row3_col5 {\n",
       "  font-size: 10pt;\n",
       "  background-color: #e6e6e6;\n",
       "  color: #000000;\n",
       "}\n",
       "#T_49677_row3_col6, #T_49677_row3_col9 {\n",
       "  font-size: 10pt;\n",
       "  background-color: #fafafa;\n",
       "  color: #000000;\n",
       "}\n",
       "#T_49677_row3_col7, #T_49677_row11_col9 {\n",
       "  font-size: 10pt;\n",
       "  background-color: #fbfbfb;\n",
       "  color: #000000;\n",
       "}\n",
       "#T_49677_row3_col8 {\n",
       "  font-size: 10pt;\n",
       "  background-color: #fdfdfd;\n",
       "  color: #000000;\n",
       "}\n",
       "#T_49677_row4_col3 {\n",
       "  font-size: 10pt;\n",
       "  background-color: #1b1b1b;\n",
       "  color: #f1f1f1;\n",
       "}\n",
       "#T_49677_row4_col4 {\n",
       "  font-size: 10pt;\n",
       "  background-color: #e0e0e0;\n",
       "  color: #000000;\n",
       "}\n",
       "#T_49677_row4_col10 {\n",
       "  font-size: 10pt;\n",
       "  background-color: #4e4e4e;\n",
       "  color: #f1f1f1;\n",
       "}\n",
       "#T_49677_row4_col13 {\n",
       "  font-size: 10pt;\n",
       "  background-color: #767676;\n",
       "  color: #f1f1f1;\n",
       "}\n",
       "#T_49677_row5_col0 {\n",
       "  font-size: 10pt;\n",
       "  background-color: #fcfcfc;\n",
       "  color: #000000;\n",
       "}\n",
       "#T_49677_row5_col1, #T_49677_row5_col2 {\n",
       "  font-size: 10pt;\n",
       "  background-color: #f6f6f6;\n",
       "  color: #000000;\n",
       "}\n",
       "#T_49677_row5_col3, #T_49677_row7_col6 {\n",
       "  font-size: 10pt;\n",
       "  background-color: #f8f8f8;\n",
       "  color: #000000;\n",
       "}\n",
       "#T_49677_row5_col9, #T_49677_row10_col6 {\n",
       "  font-size: 10pt;\n",
       "  background-color: #e8e8e8;\n",
       "  color: #000000;\n",
       "}\n",
       "#T_49677_row5_col10 {\n",
       "  font-size: 10pt;\n",
       "  background-color: #222222;\n",
       "  color: #f1f1f1;\n",
       "}\n",
       "#T_49677_row5_col12, #T_49677_row6_col11 {\n",
       "  font-size: 10pt;\n",
       "  background-color: #090909;\n",
       "  color: #f1f1f1;\n",
       "}\n",
       "#T_49677_row5_col13 {\n",
       "  font-size: 10pt;\n",
       "  background-color: #d0d0d0;\n",
       "  color: #000000;\n",
       "}\n",
       "#T_49677_row6_col9, #T_49677_row7_col10, #T_49677_row9_col5 {\n",
       "  font-size: 10pt;\n",
       "  background-color: #060606;\n",
       "  color: #f1f1f1;\n",
       "}\n",
       "#T_49677_row6_col12 {\n",
       "  font-size: 10pt;\n",
       "  background-color: #979797;\n",
       "  color: #f1f1f1;\n",
       "}\n",
       "#T_49677_row7_col7 {\n",
       "  font-size: 10pt;\n",
       "  background-color: #b6b6b6;\n",
       "  color: #000000;\n",
       "}\n",
       "#T_49677_row7_col8 {\n",
       "  font-size: 10pt;\n",
       "  background-color: #252525;\n",
       "  color: #f1f1f1;\n",
       "}\n",
       "#T_49677_row7_col11 {\n",
       "  font-size: 10pt;\n",
       "  background-color: #999999;\n",
       "  color: #f1f1f1;\n",
       "}\n",
       "#T_49677_row8_col4 {\n",
       "  font-size: 10pt;\n",
       "  background-color: #f9f9f9;\n",
       "  color: #000000;\n",
       "}\n",
       "#T_49677_row8_col6 {\n",
       "  font-size: 10pt;\n",
       "  background-color: #101010;\n",
       "  color: #f1f1f1;\n",
       "}\n",
       "#T_49677_row8_col8, #T_49677_row9_col8 {\n",
       "  font-size: 10pt;\n",
       "  background-color: #020202;\n",
       "  color: #f1f1f1;\n",
       "}\n",
       "#T_49677_row8_col10, #T_49677_row10_col14 {\n",
       "  font-size: 10pt;\n",
       "  background-color: #545454;\n",
       "  color: #f1f1f1;\n",
       "}\n",
       "#T_49677_row8_col11 {\n",
       "  font-size: 10pt;\n",
       "  background-color: #f1f1f1;\n",
       "  color: #000000;\n",
       "}\n",
       "#T_49677_row9_col4 {\n",
       "  font-size: 10pt;\n",
       "  background-color: #f7f7f7;\n",
       "  color: #000000;\n",
       "}\n",
       "#T_49677_row9_col6 {\n",
       "  font-size: 10pt;\n",
       "  background-color: #030303;\n",
       "  color: #f1f1f1;\n",
       "}\n",
       "#T_49677_row9_col11 {\n",
       "  font-size: 10pt;\n",
       "  background-color: #181818;\n",
       "  color: #f1f1f1;\n",
       "}\n",
       "#T_49677_row9_col12 {\n",
       "  font-size: 10pt;\n",
       "  background-color: #303030;\n",
       "  color: #f1f1f1;\n",
       "}\n",
       "#T_49677_row9_col13 {\n",
       "  font-size: 10pt;\n",
       "  background-color: #a9a9a9;\n",
       "  color: #f1f1f1;\n",
       "}\n",
       "#T_49677_row9_col14 {\n",
       "  font-size: 10pt;\n",
       "  background-color: #fefefe;\n",
       "  color: #000000;\n",
       "}\n",
       "#T_49677_row10_col7, #T_49677_row10_col8 {\n",
       "  font-size: 10pt;\n",
       "  background-color: #bababa;\n",
       "  color: #000000;\n",
       "}\n",
       "#T_49677_row10_col9 {\n",
       "  font-size: 10pt;\n",
       "  background-color: #393939;\n",
       "  color: #f1f1f1;\n",
       "}\n",
       "#T_49677_row10_col15 {\n",
       "  font-size: 10pt;\n",
       "  background-color: #eaeaea;\n",
       "  color: #000000;\n",
       "}\n",
       "#T_49677_row11_col10 {\n",
       "  font-size: 10pt;\n",
       "  background-color: #e2e2e2;\n",
       "  color: #000000;\n",
       "}\n",
       "#T_49677_row11_col11 {\n",
       "  font-size: 10pt;\n",
       "  background-color: #9f9f9f;\n",
       "  color: #f1f1f1;\n",
       "}\n",
       "#T_49677_row11_col15 {\n",
       "  font-size: 10pt;\n",
       "  background-color: #898989;\n",
       "  color: #f1f1f1;\n",
       "}\n",
       "#T_49677_row12_col12 {\n",
       "  font-size: 10pt;\n",
       "  background-color: #585858;\n",
       "  color: #f1f1f1;\n",
       "}\n",
       "#T_49677_row13_col12 {\n",
       "  font-size: 10pt;\n",
       "  background-color: #5a5a5a;\n",
       "  color: #f1f1f1;\n",
       "}\n",
       "#T_49677_row13_col15 {\n",
       "  font-size: 10pt;\n",
       "  background-color: #525252;\n",
       "  color: #f1f1f1;\n",
       "}\n",
       "</style>\n",
       "<table id=\"T_49677\">\n",
       "  <thead>\n",
       "    <tr>\n",
       "      <th class=\"blank level0\" >&nbsp;</th>\n",
       "      <th id=\"T_49677_level0_col0\" class=\"col_heading level0 col0\" >0</th>\n",
       "      <th id=\"T_49677_level0_col1\" class=\"col_heading level0 col1\" >1</th>\n",
       "      <th id=\"T_49677_level0_col2\" class=\"col_heading level0 col2\" >2</th>\n",
       "      <th id=\"T_49677_level0_col3\" class=\"col_heading level0 col3\" >3</th>\n",
       "      <th id=\"T_49677_level0_col4\" class=\"col_heading level0 col4\" >4</th>\n",
       "      <th id=\"T_49677_level0_col5\" class=\"col_heading level0 col5\" >5</th>\n",
       "      <th id=\"T_49677_level0_col6\" class=\"col_heading level0 col6\" >6</th>\n",
       "      <th id=\"T_49677_level0_col7\" class=\"col_heading level0 col7\" >7</th>\n",
       "      <th id=\"T_49677_level0_col8\" class=\"col_heading level0 col8\" >8</th>\n",
       "      <th id=\"T_49677_level0_col9\" class=\"col_heading level0 col9\" >9</th>\n",
       "      <th id=\"T_49677_level0_col10\" class=\"col_heading level0 col10\" >10</th>\n",
       "      <th id=\"T_49677_level0_col11\" class=\"col_heading level0 col11\" >11</th>\n",
       "      <th id=\"T_49677_level0_col12\" class=\"col_heading level0 col12\" >12</th>\n",
       "      <th id=\"T_49677_level0_col13\" class=\"col_heading level0 col13\" >13</th>\n",
       "      <th id=\"T_49677_level0_col14\" class=\"col_heading level0 col14\" >14</th>\n",
       "      <th id=\"T_49677_level0_col15\" class=\"col_heading level0 col15\" >15</th>\n",
       "      <th id=\"T_49677_level0_col16\" class=\"col_heading level0 col16\" >16</th>\n",
       "    </tr>\n",
       "  </thead>\n",
       "  <tbody>\n",
       "    <tr>\n",
       "      <th id=\"T_49677_level0_row0\" class=\"row_heading level0 row0\" >0</th>\n",
       "      <td id=\"T_49677_row0_col0\" class=\"data row0 col0\" >0</td>\n",
       "      <td id=\"T_49677_row0_col1\" class=\"data row0 col1\" >0</td>\n",
       "      <td id=\"T_49677_row0_col2\" class=\"data row0 col2\" >0</td>\n",
       "      <td id=\"T_49677_row0_col3\" class=\"data row0 col3\" >0</td>\n",
       "      <td id=\"T_49677_row0_col4\" class=\"data row0 col4\" >0</td>\n",
       "      <td id=\"T_49677_row0_col5\" class=\"data row0 col5\" >0</td>\n",
       "      <td id=\"T_49677_row0_col6\" class=\"data row0 col6\" >0</td>\n",
       "      <td id=\"T_49677_row0_col7\" class=\"data row0 col7\" >0</td>\n",
       "      <td id=\"T_49677_row0_col8\" class=\"data row0 col8\" >0</td>\n",
       "      <td id=\"T_49677_row0_col9\" class=\"data row0 col9\" >0</td>\n",
       "      <td id=\"T_49677_row0_col10\" class=\"data row0 col10\" >0</td>\n",
       "      <td id=\"T_49677_row0_col11\" class=\"data row0 col11\" >0</td>\n",
       "      <td id=\"T_49677_row0_col12\" class=\"data row0 col12\" >0</td>\n",
       "      <td id=\"T_49677_row0_col13\" class=\"data row0 col13\" >0</td>\n",
       "      <td id=\"T_49677_row0_col14\" class=\"data row0 col14\" >0</td>\n",
       "      <td id=\"T_49677_row0_col15\" class=\"data row0 col15\" >0</td>\n",
       "      <td id=\"T_49677_row0_col16\" class=\"data row0 col16\" >0</td>\n",
       "    </tr>\n",
       "    <tr>\n",
       "      <th id=\"T_49677_level0_row1\" class=\"row_heading level0 row1\" >1</th>\n",
       "      <td id=\"T_49677_row1_col0\" class=\"data row1 col0\" >0</td>\n",
       "      <td id=\"T_49677_row1_col1\" class=\"data row1 col1\" >0</td>\n",
       "      <td id=\"T_49677_row1_col2\" class=\"data row1 col2\" >0</td>\n",
       "      <td id=\"T_49677_row1_col3\" class=\"data row1 col3\" >0</td>\n",
       "      <td id=\"T_49677_row1_col4\" class=\"data row1 col4\" >29</td>\n",
       "      <td id=\"T_49677_row1_col5\" class=\"data row1 col5\" >150</td>\n",
       "      <td id=\"T_49677_row1_col6\" class=\"data row1 col6\" >195</td>\n",
       "      <td id=\"T_49677_row1_col7\" class=\"data row1 col7\" >254</td>\n",
       "      <td id=\"T_49677_row1_col8\" class=\"data row1 col8\" >255</td>\n",
       "      <td id=\"T_49677_row1_col9\" class=\"data row1 col9\" >254</td>\n",
       "      <td id=\"T_49677_row1_col10\" class=\"data row1 col10\" >176</td>\n",
       "      <td id=\"T_49677_row1_col11\" class=\"data row1 col11\" >193</td>\n",
       "      <td id=\"T_49677_row1_col12\" class=\"data row1 col12\" >150</td>\n",
       "      <td id=\"T_49677_row1_col13\" class=\"data row1 col13\" >96</td>\n",
       "      <td id=\"T_49677_row1_col14\" class=\"data row1 col14\" >0</td>\n",
       "      <td id=\"T_49677_row1_col15\" class=\"data row1 col15\" >0</td>\n",
       "      <td id=\"T_49677_row1_col16\" class=\"data row1 col16\" >0</td>\n",
       "    </tr>\n",
       "    <tr>\n",
       "      <th id=\"T_49677_level0_row2\" class=\"row_heading level0 row2\" >2</th>\n",
       "      <td id=\"T_49677_row2_col0\" class=\"data row2 col0\" >0</td>\n",
       "      <td id=\"T_49677_row2_col1\" class=\"data row2 col1\" >0</td>\n",
       "      <td id=\"T_49677_row2_col2\" class=\"data row2 col2\" >48</td>\n",
       "      <td id=\"T_49677_row2_col3\" class=\"data row2 col3\" >166</td>\n",
       "      <td id=\"T_49677_row2_col4\" class=\"data row2 col4\" >224</td>\n",
       "      <td id=\"T_49677_row2_col5\" class=\"data row2 col5\" >253</td>\n",
       "      <td id=\"T_49677_row2_col6\" class=\"data row2 col6\" >253</td>\n",
       "      <td id=\"T_49677_row2_col7\" class=\"data row2 col7\" >234</td>\n",
       "      <td id=\"T_49677_row2_col8\" class=\"data row2 col8\" >196</td>\n",
       "      <td id=\"T_49677_row2_col9\" class=\"data row2 col9\" >253</td>\n",
       "      <td id=\"T_49677_row2_col10\" class=\"data row2 col10\" >253</td>\n",
       "      <td id=\"T_49677_row2_col11\" class=\"data row2 col11\" >253</td>\n",
       "      <td id=\"T_49677_row2_col12\" class=\"data row2 col12\" >253</td>\n",
       "      <td id=\"T_49677_row2_col13\" class=\"data row2 col13\" >233</td>\n",
       "      <td id=\"T_49677_row2_col14\" class=\"data row2 col14\" >0</td>\n",
       "      <td id=\"T_49677_row2_col15\" class=\"data row2 col15\" >0</td>\n",
       "      <td id=\"T_49677_row2_col16\" class=\"data row2 col16\" >0</td>\n",
       "    </tr>\n",
       "    <tr>\n",
       "      <th id=\"T_49677_level0_row3\" class=\"row_heading level0 row3\" >3</th>\n",
       "      <td id=\"T_49677_row3_col0\" class=\"data row3 col0\" >93</td>\n",
       "      <td id=\"T_49677_row3_col1\" class=\"data row3 col1\" >244</td>\n",
       "      <td id=\"T_49677_row3_col2\" class=\"data row3 col2\" >249</td>\n",
       "      <td id=\"T_49677_row3_col3\" class=\"data row3 col3\" >253</td>\n",
       "      <td id=\"T_49677_row3_col4\" class=\"data row3 col4\" >187</td>\n",
       "      <td id=\"T_49677_row3_col5\" class=\"data row3 col5\" >46</td>\n",
       "      <td id=\"T_49677_row3_col6\" class=\"data row3 col6\" >10</td>\n",
       "      <td id=\"T_49677_row3_col7\" class=\"data row3 col7\" >8</td>\n",
       "      <td id=\"T_49677_row3_col8\" class=\"data row3 col8\" >4</td>\n",
       "      <td id=\"T_49677_row3_col9\" class=\"data row3 col9\" >10</td>\n",
       "      <td id=\"T_49677_row3_col10\" class=\"data row3 col10\" >194</td>\n",
       "      <td id=\"T_49677_row3_col11\" class=\"data row3 col11\" >253</td>\n",
       "      <td id=\"T_49677_row3_col12\" class=\"data row3 col12\" >253</td>\n",
       "      <td id=\"T_49677_row3_col13\" class=\"data row3 col13\" >233</td>\n",
       "      <td id=\"T_49677_row3_col14\" class=\"data row3 col14\" >0</td>\n",
       "      <td id=\"T_49677_row3_col15\" class=\"data row3 col15\" >0</td>\n",
       "      <td id=\"T_49677_row3_col16\" class=\"data row3 col16\" >0</td>\n",
       "    </tr>\n",
       "    <tr>\n",
       "      <th id=\"T_49677_level0_row4\" class=\"row_heading level0 row4\" >4</th>\n",
       "      <td id=\"T_49677_row4_col0\" class=\"data row4 col0\" >107</td>\n",
       "      <td id=\"T_49677_row4_col1\" class=\"data row4 col1\" >253</td>\n",
       "      <td id=\"T_49677_row4_col2\" class=\"data row4 col2\" >253</td>\n",
       "      <td id=\"T_49677_row4_col3\" class=\"data row4 col3\" >230</td>\n",
       "      <td id=\"T_49677_row4_col4\" class=\"data row4 col4\" >48</td>\n",
       "      <td id=\"T_49677_row4_col5\" class=\"data row4 col5\" >0</td>\n",
       "      <td id=\"T_49677_row4_col6\" class=\"data row4 col6\" >0</td>\n",
       "      <td id=\"T_49677_row4_col7\" class=\"data row4 col7\" >0</td>\n",
       "      <td id=\"T_49677_row4_col8\" class=\"data row4 col8\" >0</td>\n",
       "      <td id=\"T_49677_row4_col9\" class=\"data row4 col9\" >0</td>\n",
       "      <td id=\"T_49677_row4_col10\" class=\"data row4 col10\" >192</td>\n",
       "      <td id=\"T_49677_row4_col11\" class=\"data row4 col11\" >253</td>\n",
       "      <td id=\"T_49677_row4_col12\" class=\"data row4 col12\" >253</td>\n",
       "      <td id=\"T_49677_row4_col13\" class=\"data row4 col13\" >156</td>\n",
       "      <td id=\"T_49677_row4_col14\" class=\"data row4 col14\" >0</td>\n",
       "      <td id=\"T_49677_row4_col15\" class=\"data row4 col15\" >0</td>\n",
       "      <td id=\"T_49677_row4_col16\" class=\"data row4 col16\" >0</td>\n",
       "    </tr>\n",
       "    <tr>\n",
       "      <th id=\"T_49677_level0_row5\" class=\"row_heading level0 row5\" >5</th>\n",
       "      <td id=\"T_49677_row5_col0\" class=\"data row5 col0\" >3</td>\n",
       "      <td id=\"T_49677_row5_col1\" class=\"data row5 col1\" >20</td>\n",
       "      <td id=\"T_49677_row5_col2\" class=\"data row5 col2\" >20</td>\n",
       "      <td id=\"T_49677_row5_col3\" class=\"data row5 col3\" >15</td>\n",
       "      <td id=\"T_49677_row5_col4\" class=\"data row5 col4\" >0</td>\n",
       "      <td id=\"T_49677_row5_col5\" class=\"data row5 col5\" >0</td>\n",
       "      <td id=\"T_49677_row5_col6\" class=\"data row5 col6\" >0</td>\n",
       "      <td id=\"T_49677_row5_col7\" class=\"data row5 col7\" >0</td>\n",
       "      <td id=\"T_49677_row5_col8\" class=\"data row5 col8\" >0</td>\n",
       "      <td id=\"T_49677_row5_col9\" class=\"data row5 col9\" >43</td>\n",
       "      <td id=\"T_49677_row5_col10\" class=\"data row5 col10\" >224</td>\n",
       "      <td id=\"T_49677_row5_col11\" class=\"data row5 col11\" >253</td>\n",
       "      <td id=\"T_49677_row5_col12\" class=\"data row5 col12\" >245</td>\n",
       "      <td id=\"T_49677_row5_col13\" class=\"data row5 col13\" >74</td>\n",
       "      <td id=\"T_49677_row5_col14\" class=\"data row5 col14\" >0</td>\n",
       "      <td id=\"T_49677_row5_col15\" class=\"data row5 col15\" >0</td>\n",
       "      <td id=\"T_49677_row5_col16\" class=\"data row5 col16\" >0</td>\n",
       "    </tr>\n",
       "    <tr>\n",
       "      <th id=\"T_49677_level0_row6\" class=\"row_heading level0 row6\" >6</th>\n",
       "      <td id=\"T_49677_row6_col0\" class=\"data row6 col0\" >0</td>\n",
       "      <td id=\"T_49677_row6_col1\" class=\"data row6 col1\" >0</td>\n",
       "      <td id=\"T_49677_row6_col2\" class=\"data row6 col2\" >0</td>\n",
       "      <td id=\"T_49677_row6_col3\" class=\"data row6 col3\" >0</td>\n",
       "      <td id=\"T_49677_row6_col4\" class=\"data row6 col4\" >0</td>\n",
       "      <td id=\"T_49677_row6_col5\" class=\"data row6 col5\" >0</td>\n",
       "      <td id=\"T_49677_row6_col6\" class=\"data row6 col6\" >0</td>\n",
       "      <td id=\"T_49677_row6_col7\" class=\"data row6 col7\" >0</td>\n",
       "      <td id=\"T_49677_row6_col8\" class=\"data row6 col8\" >0</td>\n",
       "      <td id=\"T_49677_row6_col9\" class=\"data row6 col9\" >249</td>\n",
       "      <td id=\"T_49677_row6_col10\" class=\"data row6 col10\" >253</td>\n",
       "      <td id=\"T_49677_row6_col11\" class=\"data row6 col11\" >245</td>\n",
       "      <td id=\"T_49677_row6_col12\" class=\"data row6 col12\" >126</td>\n",
       "      <td id=\"T_49677_row6_col13\" class=\"data row6 col13\" >0</td>\n",
       "      <td id=\"T_49677_row6_col14\" class=\"data row6 col14\" >0</td>\n",
       "      <td id=\"T_49677_row6_col15\" class=\"data row6 col15\" >0</td>\n",
       "      <td id=\"T_49677_row6_col16\" class=\"data row6 col16\" >0</td>\n",
       "    </tr>\n",
       "    <tr>\n",
       "      <th id=\"T_49677_level0_row7\" class=\"row_heading level0 row7\" >7</th>\n",
       "      <td id=\"T_49677_row7_col0\" class=\"data row7 col0\" >0</td>\n",
       "      <td id=\"T_49677_row7_col1\" class=\"data row7 col1\" >0</td>\n",
       "      <td id=\"T_49677_row7_col2\" class=\"data row7 col2\" >0</td>\n",
       "      <td id=\"T_49677_row7_col3\" class=\"data row7 col3\" >0</td>\n",
       "      <td id=\"T_49677_row7_col4\" class=\"data row7 col4\" >0</td>\n",
       "      <td id=\"T_49677_row7_col5\" class=\"data row7 col5\" >0</td>\n",
       "      <td id=\"T_49677_row7_col6\" class=\"data row7 col6\" >14</td>\n",
       "      <td id=\"T_49677_row7_col7\" class=\"data row7 col7\" >101</td>\n",
       "      <td id=\"T_49677_row7_col8\" class=\"data row7 col8\" >223</td>\n",
       "      <td id=\"T_49677_row7_col9\" class=\"data row7 col9\" >253</td>\n",
       "      <td id=\"T_49677_row7_col10\" class=\"data row7 col10\" >248</td>\n",
       "      <td id=\"T_49677_row7_col11\" class=\"data row7 col11\" >124</td>\n",
       "      <td id=\"T_49677_row7_col12\" class=\"data row7 col12\" >0</td>\n",
       "      <td id=\"T_49677_row7_col13\" class=\"data row7 col13\" >0</td>\n",
       "      <td id=\"T_49677_row7_col14\" class=\"data row7 col14\" >0</td>\n",
       "      <td id=\"T_49677_row7_col15\" class=\"data row7 col15\" >0</td>\n",
       "      <td id=\"T_49677_row7_col16\" class=\"data row7 col16\" >0</td>\n",
       "    </tr>\n",
       "    <tr>\n",
       "      <th id=\"T_49677_level0_row8\" class=\"row_heading level0 row8\" >8</th>\n",
       "      <td id=\"T_49677_row8_col0\" class=\"data row8 col0\" >0</td>\n",
       "      <td id=\"T_49677_row8_col1\" class=\"data row8 col1\" >0</td>\n",
       "      <td id=\"T_49677_row8_col2\" class=\"data row8 col2\" >0</td>\n",
       "      <td id=\"T_49677_row8_col3\" class=\"data row8 col3\" >0</td>\n",
       "      <td id=\"T_49677_row8_col4\" class=\"data row8 col4\" >11</td>\n",
       "      <td id=\"T_49677_row8_col5\" class=\"data row8 col5\" >166</td>\n",
       "      <td id=\"T_49677_row8_col6\" class=\"data row8 col6\" >239</td>\n",
       "      <td id=\"T_49677_row8_col7\" class=\"data row8 col7\" >253</td>\n",
       "      <td id=\"T_49677_row8_col8\" class=\"data row8 col8\" >253</td>\n",
       "      <td id=\"T_49677_row8_col9\" class=\"data row8 col9\" >253</td>\n",
       "      <td id=\"T_49677_row8_col10\" class=\"data row8 col10\" >187</td>\n",
       "      <td id=\"T_49677_row8_col11\" class=\"data row8 col11\" >30</td>\n",
       "      <td id=\"T_49677_row8_col12\" class=\"data row8 col12\" >0</td>\n",
       "      <td id=\"T_49677_row8_col13\" class=\"data row8 col13\" >0</td>\n",
       "      <td id=\"T_49677_row8_col14\" class=\"data row8 col14\" >0</td>\n",
       "      <td id=\"T_49677_row8_col15\" class=\"data row8 col15\" >0</td>\n",
       "      <td id=\"T_49677_row8_col16\" class=\"data row8 col16\" >0</td>\n",
       "    </tr>\n",
       "    <tr>\n",
       "      <th id=\"T_49677_level0_row9\" class=\"row_heading level0 row9\" >9</th>\n",
       "      <td id=\"T_49677_row9_col0\" class=\"data row9 col0\" >0</td>\n",
       "      <td id=\"T_49677_row9_col1\" class=\"data row9 col1\" >0</td>\n",
       "      <td id=\"T_49677_row9_col2\" class=\"data row9 col2\" >0</td>\n",
       "      <td id=\"T_49677_row9_col3\" class=\"data row9 col3\" >0</td>\n",
       "      <td id=\"T_49677_row9_col4\" class=\"data row9 col4\" >16</td>\n",
       "      <td id=\"T_49677_row9_col5\" class=\"data row9 col5\" >248</td>\n",
       "      <td id=\"T_49677_row9_col6\" class=\"data row9 col6\" >250</td>\n",
       "      <td id=\"T_49677_row9_col7\" class=\"data row9 col7\" >253</td>\n",
       "      <td id=\"T_49677_row9_col8\" class=\"data row9 col8\" >253</td>\n",
       "      <td id=\"T_49677_row9_col9\" class=\"data row9 col9\" >253</td>\n",
       "      <td id=\"T_49677_row9_col10\" class=\"data row9 col10\" >253</td>\n",
       "      <td id=\"T_49677_row9_col11\" class=\"data row9 col11\" >232</td>\n",
       "      <td id=\"T_49677_row9_col12\" class=\"data row9 col12\" >213</td>\n",
       "      <td id=\"T_49677_row9_col13\" class=\"data row9 col13\" >111</td>\n",
       "      <td id=\"T_49677_row9_col14\" class=\"data row9 col14\" >2</td>\n",
       "      <td id=\"T_49677_row9_col15\" class=\"data row9 col15\" >0</td>\n",
       "      <td id=\"T_49677_row9_col16\" class=\"data row9 col16\" >0</td>\n",
       "    </tr>\n",
       "    <tr>\n",
       "      <th id=\"T_49677_level0_row10\" class=\"row_heading level0 row10\" >10</th>\n",
       "      <td id=\"T_49677_row10_col0\" class=\"data row10 col0\" >0</td>\n",
       "      <td id=\"T_49677_row10_col1\" class=\"data row10 col1\" >0</td>\n",
       "      <td id=\"T_49677_row10_col2\" class=\"data row10 col2\" >0</td>\n",
       "      <td id=\"T_49677_row10_col3\" class=\"data row10 col3\" >0</td>\n",
       "      <td id=\"T_49677_row10_col4\" class=\"data row10 col4\" >0</td>\n",
       "      <td id=\"T_49677_row10_col5\" class=\"data row10 col5\" >0</td>\n",
       "      <td id=\"T_49677_row10_col6\" class=\"data row10 col6\" >43</td>\n",
       "      <td id=\"T_49677_row10_col7\" class=\"data row10 col7\" >98</td>\n",
       "      <td id=\"T_49677_row10_col8\" class=\"data row10 col8\" >98</td>\n",
       "      <td id=\"T_49677_row10_col9\" class=\"data row10 col9\" >208</td>\n",
       "      <td id=\"T_49677_row10_col10\" class=\"data row10 col10\" >253</td>\n",
       "      <td id=\"T_49677_row10_col11\" class=\"data row10 col11\" >253</td>\n",
       "      <td id=\"T_49677_row10_col12\" class=\"data row10 col12\" >253</td>\n",
       "      <td id=\"T_49677_row10_col13\" class=\"data row10 col13\" >253</td>\n",
       "      <td id=\"T_49677_row10_col14\" class=\"data row10 col14\" >187</td>\n",
       "      <td id=\"T_49677_row10_col15\" class=\"data row10 col15\" >22</td>\n",
       "      <td id=\"T_49677_row10_col16\" class=\"data row10 col16\" >0</td>\n",
       "    </tr>\n",
       "    <tr>\n",
       "      <th id=\"T_49677_level0_row11\" class=\"row_heading level0 row11\" >11</th>\n",
       "      <td id=\"T_49677_row11_col0\" class=\"data row11 col0\" >0</td>\n",
       "      <td id=\"T_49677_row11_col1\" class=\"data row11 col1\" >0</td>\n",
       "      <td id=\"T_49677_row11_col2\" class=\"data row11 col2\" >0</td>\n",
       "      <td id=\"T_49677_row11_col3\" class=\"data row11 col3\" >0</td>\n",
       "      <td id=\"T_49677_row11_col4\" class=\"data row11 col4\" >0</td>\n",
       "      <td id=\"T_49677_row11_col5\" class=\"data row11 col5\" >0</td>\n",
       "      <td id=\"T_49677_row11_col6\" class=\"data row11 col6\" >0</td>\n",
       "      <td id=\"T_49677_row11_col7\" class=\"data row11 col7\" >0</td>\n",
       "      <td id=\"T_49677_row11_col8\" class=\"data row11 col8\" >0</td>\n",
       "      <td id=\"T_49677_row11_col9\" class=\"data row11 col9\" >9</td>\n",
       "      <td id=\"T_49677_row11_col10\" class=\"data row11 col10\" >51</td>\n",
       "      <td id=\"T_49677_row11_col11\" class=\"data row11 col11\" >119</td>\n",
       "      <td id=\"T_49677_row11_col12\" class=\"data row11 col12\" >253</td>\n",
       "      <td id=\"T_49677_row11_col13\" class=\"data row11 col13\" >253</td>\n",
       "      <td id=\"T_49677_row11_col14\" class=\"data row11 col14\" >253</td>\n",
       "      <td id=\"T_49677_row11_col15\" class=\"data row11 col15\" >76</td>\n",
       "      <td id=\"T_49677_row11_col16\" class=\"data row11 col16\" >0</td>\n",
       "    </tr>\n",
       "    <tr>\n",
       "      <th id=\"T_49677_level0_row12\" class=\"row_heading level0 row12\" >12</th>\n",
       "      <td id=\"T_49677_row12_col0\" class=\"data row12 col0\" >0</td>\n",
       "      <td id=\"T_49677_row12_col1\" class=\"data row12 col1\" >0</td>\n",
       "      <td id=\"T_49677_row12_col2\" class=\"data row12 col2\" >0</td>\n",
       "      <td id=\"T_49677_row12_col3\" class=\"data row12 col3\" >0</td>\n",
       "      <td id=\"T_49677_row12_col4\" class=\"data row12 col4\" >0</td>\n",
       "      <td id=\"T_49677_row12_col5\" class=\"data row12 col5\" >0</td>\n",
       "      <td id=\"T_49677_row12_col6\" class=\"data row12 col6\" >0</td>\n",
       "      <td id=\"T_49677_row12_col7\" class=\"data row12 col7\" >0</td>\n",
       "      <td id=\"T_49677_row12_col8\" class=\"data row12 col8\" >0</td>\n",
       "      <td id=\"T_49677_row12_col9\" class=\"data row12 col9\" >0</td>\n",
       "      <td id=\"T_49677_row12_col10\" class=\"data row12 col10\" >0</td>\n",
       "      <td id=\"T_49677_row12_col11\" class=\"data row12 col11\" >1</td>\n",
       "      <td id=\"T_49677_row12_col12\" class=\"data row12 col12\" >183</td>\n",
       "      <td id=\"T_49677_row12_col13\" class=\"data row12 col13\" >253</td>\n",
       "      <td id=\"T_49677_row12_col14\" class=\"data row12 col14\" >253</td>\n",
       "      <td id=\"T_49677_row12_col15\" class=\"data row12 col15\" >139</td>\n",
       "      <td id=\"T_49677_row12_col16\" class=\"data row12 col16\" >0</td>\n",
       "    </tr>\n",
       "    <tr>\n",
       "      <th id=\"T_49677_level0_row13\" class=\"row_heading level0 row13\" >13</th>\n",
       "      <td id=\"T_49677_row13_col0\" class=\"data row13 col0\" >0</td>\n",
       "      <td id=\"T_49677_row13_col1\" class=\"data row13 col1\" >0</td>\n",
       "      <td id=\"T_49677_row13_col2\" class=\"data row13 col2\" >0</td>\n",
       "      <td id=\"T_49677_row13_col3\" class=\"data row13 col3\" >0</td>\n",
       "      <td id=\"T_49677_row13_col4\" class=\"data row13 col4\" >0</td>\n",
       "      <td id=\"T_49677_row13_col5\" class=\"data row13 col5\" >0</td>\n",
       "      <td id=\"T_49677_row13_col6\" class=\"data row13 col6\" >0</td>\n",
       "      <td id=\"T_49677_row13_col7\" class=\"data row13 col7\" >0</td>\n",
       "      <td id=\"T_49677_row13_col8\" class=\"data row13 col8\" >0</td>\n",
       "      <td id=\"T_49677_row13_col9\" class=\"data row13 col9\" >0</td>\n",
       "      <td id=\"T_49677_row13_col10\" class=\"data row13 col10\" >0</td>\n",
       "      <td id=\"T_49677_row13_col11\" class=\"data row13 col11\" >0</td>\n",
       "      <td id=\"T_49677_row13_col12\" class=\"data row13 col12\" >182</td>\n",
       "      <td id=\"T_49677_row13_col13\" class=\"data row13 col13\" >253</td>\n",
       "      <td id=\"T_49677_row13_col14\" class=\"data row13 col14\" >253</td>\n",
       "      <td id=\"T_49677_row13_col15\" class=\"data row13 col15\" >104</td>\n",
       "      <td id=\"T_49677_row13_col16\" class=\"data row13 col16\" >0</td>\n",
       "    </tr>\n",
       "  </tbody>\n",
       "</table>\n"
      ],
      "text/plain": [
       "<pandas.io.formats.style.Styler at 0x17f16e450>"
      ]
     },
     "execution_count": 5,
     "metadata": {},
     "output_type": "execute_result"
    }
   ],
   "source": [
    "im3_t = tensor(im3)\n",
    "im3_df = pd.DataFrame(im3_t[4:18,5:22])\n",
    "im3_df.style.set_properties(**{'font-size': '10pt'}).background_gradient('Greys')"
   ]
  },
  {
   "cell_type": "code",
   "execution_count": 6,
   "metadata": {},
   "outputs": [
    {
     "data": {
      "text/plain": [
       "<Axes: >"
      ]
     },
     "execution_count": 6,
     "metadata": {},
     "output_type": "execute_result"
    },
    {
     "data": {
      "image/png": "[encoded data removed]",
      "text/plain": [
       "<Figure size 100x100 with 1 Axes>"
      ]
     },
     "metadata": {},
     "output_type": "display_data"
    }
   ],
   "source": [
    "show_image(im3_t)"
   ]
  },
  {
   "cell_type": "markdown",
   "metadata": {},
   "source": [
    "Let's stack our images into a tensor. There should be 6131 threes & 6265 sevens of 28x28 pixels:"
   ]
  },
  {
   "cell_type": "code",
   "execution_count": 7,
   "metadata": {},
   "outputs": [
    {
     "data": {
      "text/plain": [
       "(torch.Size([6131, 28, 28]), torch.Size([6265, 28, 28]))"
      ]
     },
     "execution_count": 7,
     "metadata": {},
     "output_type": "execute_result"
    }
   ],
   "source": [
    "threes_tensor = torch.stack([tensor(Image.open(img)) for img in threes]).float()/255\n",
    "sevens_tensor = torch.stack([tensor(Image.open(img)) for img in sevens]).float()/255\n",
    "\n",
    "threes_tensor.shape, sevens_tensor.shape"
   ]
  },
  {
   "cell_type": "markdown",
   "metadata": {},
   "source": [
    "Let's average all the images to find our 'ideal' 3:"
   ]
  },
  {
   "cell_type": "code",
   "execution_count": 8,
   "metadata": {},
   "outputs": [
    {
     "data": {
      "text/plain": [
       "<Axes: >"
      ]
     },
     "execution_count": 8,
     "metadata": {},
     "output_type": "execute_result"
    },
    {
     "data": {
      "image/png": "[encoded data removed]",
      "text/plain": [
       "<Figure size 100x100 with 1 Axes>"
      ]
     },
     "metadata": {},
     "output_type": "display_data"
    }
   ],
   "source": [
    "mean3 = threes_tensor.mean(0)\n",
    "show_image(mean3)"
   ]
  },
  {
   "cell_type": "markdown",
   "metadata": {},
   "source": [
    "And now our ideal 7:"
   ]
  },
  {
   "cell_type": "code",
   "execution_count": 9,
   "metadata": {},
   "outputs": [
    {
     "data": {
      "text/plain": [
       "<Axes: >"
      ]
     },
     "execution_count": 9,
     "metadata": {},
     "output_type": "execute_result"
    },
    {
     "data": {
      "image/png": "[encoded data removed]",
      "text/plain": [
       "<Figure size 100x100 with 1 Axes>"
      ]
     },
     "metadata": {},
     "output_type": "display_data"
    }
   ],
   "source": [
    "mean7 = sevens_tensor.mean(0)\n",
    "show_image(mean7)"
   ]
  },
  {
   "cell_type": "markdown",
   "metadata": {},
   "source": [
    "Now let's define a distance for a given image to our 'ideal' image. There are 2 common ways in this context:\n",
    "1. L1 norm or Mean Absolute Difference\n",
    "2. L2 norm or Root Mean Squared Error (RMSE)\n",
    "\n",
    "The latter will penalize bigger mistakes more heavily than the former."
   ]
  },
  {
   "cell_type": "code",
   "execution_count": 10,
   "metadata": {},
   "outputs": [],
   "source": [
    "def mean_abs_diff(x, y):\n",
    "    return (x - y).abs().mean()\n",
    "\n",
    "def root_mean_squared_error(x, y):\n",
    "    return ((x - y) ** 2).mean().sqrt()"
   ]
  },
  {
   "cell_type": "markdown",
   "metadata": {},
   "source": [
    "PyTorch provides both of these as loss functions via `torch.nn.functional` usually imported as `F` (also available as such in fastai)"
   ]
  },
  {
   "cell_type": "code",
   "execution_count": 11,
   "metadata": {},
   "outputs": [
    {
     "name": "stdout",
     "output_type": "stream",
     "text": [
      "tensor(36.2508) tensor(36.2508)\n",
      "tensor(89.4386) tensor(89.4386)\n"
     ]
    }
   ],
   "source": [
    "print(mean_abs_diff(im3_t, mean3), F.l1_loss(im3_t, mean3))\n",
    "print(root_mean_squared_error(im3_t, mean3), F.mse_loss(im3_t, mean3).sqrt())"
   ]
  },
  {
   "cell_type": "markdown",
   "metadata": {},
   "source": [
    "Our first attempt at classifying an input image as a 3 or a 7 will be by calculting the distace between our image and the ideal image. This should be better than nothing and it will be our baseline.\n",
    "\n",
    "To determine if our baseline model is anygood, let's define a metric and calcuate it using the MNIST validation dataset:"
   ]
  },
  {
   "cell_type": "code",
   "execution_count": 12,
   "metadata": {},
   "outputs": [
    {
     "data": {
      "text/plain": [
       "(torch.Size([1010, 28, 28]), torch.Size([1028, 28, 28]))"
      ]
     },
     "execution_count": 12,
     "metadata": {},
     "output_type": "execute_result"
    }
   ],
   "source": [
    "valid_3_tens = torch.stack([tensor(Image.open(img)) for img in (path/'valid'/'3').ls()]).float() / 255\n",
    "valid_7_tens = torch.stack([tensor(Image.open(img)) for img in (path/'valid'/'7').ls()]).float() / 255\n",
    "\n",
    "valid_3_tens.shape, valid_7_tens.shape"
   ]
  },
  {
   "cell_type": "markdown",
   "metadata": {},
   "source": [
    "Let's define our distance function similar as we did before, but instead of calculating the distance between 2 images let's caculate the difference between an image and the validation set (multiple images). This should result in a tensor which contains the distance for each image in the validation set."
   ]
  },
  {
   "cell_type": "code",
   "execution_count": 13,
   "metadata": {},
   "outputs": [
    {
     "data": {
      "text/plain": [
       "(tensor([0.1634, 0.1145, 0.1363,  ..., 0.1105, 0.1111, 0.1640]),\n",
       " torch.Size([1010]))"
      ]
     },
     "execution_count": 13,
     "metadata": {},
     "output_type": "execute_result"
    }
   ],
   "source": [
    "def mnist_distance(a, b):\n",
    "    \n",
    "    # NB Broadcasting \n",
    "    # [1010, 28, 28] - [28, 28] --> [1010, 28, 28]\n",
    "    # [1010, 28, 28].abs() -> [1010, 28, 28]\n",
    "    # [1010, 28, 28].mean((-1, -2)) -> [1010]  ie. mean for each image\n",
    "    return (a - b).abs().mean((-1, -2))\n",
    "\n",
    "\n",
    "mnist_distance(valid_3_tens, mean3), mnist_distance(valid_3_tens, mean3).shape"
   ]
  },
  {
   "cell_type": "markdown",
   "metadata": {},
   "source": [
    "And we can define a function that determines if an image is a 3:"
   ]
  },
  {
   "cell_type": "code",
   "execution_count": 14,
   "metadata": {},
   "outputs": [],
   "source": [
    "def is_3(x):\n",
    "    return mnist_distance(x, mean3) < mnist_distance(x, mean7)"
   ]
  },
  {
   "cell_type": "code",
   "execution_count": 15,
   "metadata": {},
   "outputs": [
    {
     "data": {
      "text/plain": [
       "(tensor(True), tensor(1.))"
      ]
     },
     "execution_count": 15,
     "metadata": {},
     "output_type": "execute_result"
    }
   ],
   "source": [
    "is_3(im3_t), is_3(im3_t).float()"
   ]
  },
  {
   "cell_type": "markdown",
   "metadata": {},
   "source": [
    "And now we can calculate the accuracy of our baseline model:"
   ]
  },
  {
   "cell_type": "code",
   "execution_count": 16,
   "metadata": {},
   "outputs": [
    {
     "data": {
      "text/plain": [
       "(tensor(0.9168), tensor(0.9854), tensor(0.9511))"
      ]
     },
     "execution_count": 16,
     "metadata": {},
     "output_type": "execute_result"
    }
   ],
   "source": [
    "accuracy_3s =      is_3(valid_3_tens).float().mean()\n",
    "accuracy_7s = (1 - is_3(valid_7_tens).float()).mean()\n",
    "\n",
    "accuracy_3s,accuracy_7s,(accuracy_3s+accuracy_7s)/2"
   ]
  },
  {
   "cell_type": "markdown",
   "metadata": {},
   "source": [
    "#### Using Stochastic Gradient Descent (SGD) instead"
   ]
  },
  {
   "cell_type": "markdown",
   "metadata": {},
   "source": [
    "Let's define our training set inputs and labels:"
   ]
  },
  {
   "cell_type": "code",
   "execution_count": 17,
   "metadata": {},
   "outputs": [
    {
     "data": {
      "text/plain": [
       "(torch.Size([12396, 784]), torch.Size([12396, 1]))"
      ]
     },
     "execution_count": 17,
     "metadata": {},
     "output_type": "execute_result"
    }
   ],
   "source": [
    "# Concat 3s & 7s and make a single row out of each 28*28 image\n",
    "train_x = torch.cat([threes_tensor, sevens_tensor]).view(-1, 28*28)\n",
    "\n",
    "# Let's use 1 for labelling 3s and 0 for labelling zeros\n",
    "train_y = tensor([1] * len(threes) + [0] * len(sevens)).unsqueeze(1)\n",
    "\n",
    "train_x.shape, train_y.shape\n"
   ]
  },
  {
   "cell_type": "markdown",
   "metadata": {},
   "source": [
    "And now our validation set inputs and labels:"
   ]
  },
  {
   "cell_type": "code",
   "execution_count": 18,
   "metadata": {},
   "outputs": [
    {
     "data": {
      "text/plain": [
       "(torch.Size([2038, 784]), torch.Size([2038, 1]))"
      ]
     },
     "execution_count": 18,
     "metadata": {},
     "output_type": "execute_result"
    }
   ],
   "source": [
    "valid_x = torch.cat([valid_3_tens, valid_7_tens]).view(-1, 28*28)\n",
    "valid_y = tensor([1] * len(valid_3_tens) + [0] * len(valid_7_tens)).unsqueeze(1)\n",
    "\n",
    "valid_x.shape, valid_y.shape"
   ]
  },
  {
   "cell_type": "markdown",
   "metadata": {},
   "source": [
    "Initialize our weights with random normal distribution and our bias:"
   ]
  },
  {
   "cell_type": "code",
   "execution_count": 19,
   "metadata": {},
   "outputs": [
    {
     "data": {
      "text/plain": [
       "(torch.Size([12396, 784]), torch.Size([784, 1]), torch.Size([1]))"
      ]
     },
     "execution_count": 19,
     "metadata": {},
     "output_type": "execute_result"
    }
   ],
   "source": [
    "weights = torch.randn(28*28,1).requires_grad_()\n",
    "bias = torch.randn(1)\n",
    "\n",
    "train_x.shape, weights.shape, bias.shape"
   ]
  },
  {
   "cell_type": "markdown",
   "metadata": {},
   "source": [
    "And now we can run our predictions:"
   ]
  },
  {
   "cell_type": "code",
   "execution_count": 20,
   "metadata": {},
   "outputs": [
    {
     "data": {
      "text/plain": [
       "tensor([[17.5601],\n",
       "        [17.4198],\n",
       "        [14.5786],\n",
       "        ...,\n",
       "        [ 9.6380],\n",
       "        [13.3237],\n",
       "        [16.5263]], grad_fn=<AddBackward0>)"
      ]
     },
     "execution_count": 20,
     "metadata": {},
     "output_type": "execute_result"
    }
   ],
   "source": [
    "preds = train_x@weights + bias\n",
    "preds"
   ]
  },
  {
   "cell_type": "markdown",
   "metadata": {},
   "source": [
    "Remember we use `1` to represent `3s` and `0` to represent `7s`. So we can now check which predictions are above zero and compare it with the training labels to get the correct predictions."
   ]
  },
  {
   "cell_type": "code",
   "execution_count": 21,
   "metadata": {},
   "outputs": [
    {
     "data": {
      "text/plain": [
       "tensor([[ True],\n",
       "        [ True],\n",
       "        [ True],\n",
       "        ...,\n",
       "        [False],\n",
       "        [False],\n",
       "        [False]])"
      ]
     },
     "execution_count": 21,
     "metadata": {},
     "output_type": "execute_result"
    }
   ],
   "source": [
    "corrects = (preds > 0.0).float() == train_y\n",
    "corrects"
   ]
  },
  {
   "cell_type": "markdown",
   "metadata": {},
   "source": [
    "Calculating our accuracy:"
   ]
  },
  {
   "cell_type": "code",
   "execution_count": 22,
   "metadata": {},
   "outputs": [
    {
     "name": "stdout",
     "output_type": "stream",
     "text": [
      "Accuracy: 49.66%\n"
     ]
    }
   ],
   "source": [
    "print(f'Accuracy: {corrects.float().mean().item():.2%}') "
   ]
  },
  {
   "cell_type": "markdown",
   "metadata": {},
   "source": [
    "Now let's change one of the weights and see how it affects our model accuracy."
   ]
  },
  {
   "cell_type": "code",
   "execution_count": 23,
   "metadata": {},
   "outputs": [
    {
     "name": "stdout",
     "output_type": "stream",
     "text": [
      "Accuracy: 49.66%\n"
     ]
    }
   ],
   "source": [
    "with torch.no_grad(): weights[0] *= 1.0001\n",
    "preds = train_x@weights + bias\n",
    "corrects = (preds > 0.0).float() == train_y\n",
    "print(f'Accuracy: {corrects.float().mean().item():.2%}')"
   ]
  },
  {
   "cell_type": "markdown",
   "metadata": {},
   "source": [
    "Accuracy hasn't changed. Since we're using `True` and `False` here for our predicions, it's unlikely that a small change in our weights will cause a change in the predictions. Also let's ensure our predictions fall between 0 and 1 by using a `sigmoid` function."
   ]
  },
  {
   "cell_type": "code",
   "execution_count": 24,
   "metadata": {},
   "outputs": [
    {
     "name": "stdout",
     "output_type": "stream",
     "text": [
      "0.5013288855552673\n",
      "0.47630050778388977\n",
      "0.2664426267147064\n",
      "0.1438225358724594\n",
      "0.1080520823597908\n",
      "0.09123412519693375\n",
      "0.0813373550772667\n",
      "0.0745953693985939\n",
      "0.06958261877298355\n",
      "0.06563961505889893\n"
     ]
    }
   ],
   "source": [
    "for k in range(1000):\n",
    "    preds = (train_x@weights + bias).sigmoid()\n",
    "    loss = (preds - train_y).abs().mean()\n",
    "\n",
    "    if k % 100 == 0:\n",
    "        print(loss.item())\n",
    "\n",
    "    weights.grad = None\n",
    "    loss.backward()\n",
    "    weights.data -= weights.grad * 0.1\n"
   ]
  },
  {
   "cell_type": "code",
   "execution_count": 25,
   "metadata": {},
   "outputs": [
    {
     "name": "stdout",
     "output_type": "stream",
     "text": [
      "Accuracy: 94.16%\n"
     ]
    }
   ],
   "source": [
    "preds = (valid_x@weights + bias).sigmoid()\n",
    "corrects = (preds > 0.5).float() == valid_y\n",
    "accuracy = corrects.float().mean().item()\n",
    "\n",
    "print(f'Accuracy: {accuracy:.2%}')"
   ]
  },
  {
   "cell_type": "markdown",
   "metadata": {},
   "source": [
    "Got a bit ahead of myself here with the training. Let's use a `Dataset` (independent & dependent variables tupes, ie. input & labels) and a `Dataset` to create mini-batches for training and validation."
   ]
  },
  {
   "cell_type": "code",
   "execution_count": 26,
   "metadata": {},
   "outputs": [
    {
     "data": {
      "text/plain": [
       "(torch.Size([256, 784]), torch.Size([256, 1]))"
      ]
     },
     "execution_count": 26,
     "metadata": {},
     "output_type": "execute_result"
    }
   ],
   "source": [
    "dset = list(zip(train_x, train_y))\n",
    "dset_valid = list(zip(valid_x, valid_y))\n",
    "\n",
    "dl = DataLoader(dset, batch_size=256, shuffle=True)\n",
    "dl_valid = DataLoader(dset_valid, batch_size=256, shuffle=True)\n",
    "\n",
    "xb,yb = first(dl)\n",
    "xb.shape,yb.shape\n"
   ]
  },
  {
   "cell_type": "markdown",
   "metadata": {},
   "source": [
    "We can use PyTorch's `nn.Linear` to init our weights and bias"
   ]
  },
  {
   "cell_type": "code",
   "execution_count": 27,
   "metadata": {},
   "outputs": [
    {
     "data": {
      "text/plain": [
       "(torch.Size([1, 784]), torch.Size([1]))"
      ]
     },
     "execution_count": 27,
     "metadata": {},
     "output_type": "execute_result"
    }
   ],
   "source": [
    "linear_model = nn.Linear(28*28, 1)\n",
    "\n",
    "w,b = linear_model.parameters()\n",
    "w.shape, b.shape"
   ]
  },
  {
   "cell_type": "markdown",
   "metadata": {},
   "source": [
    "And now let's put our previous definitions into a few function:"
   ]
  },
  {
   "cell_type": "code",
   "execution_count": 28,
   "metadata": {},
   "outputs": [],
   "source": [
    "def calc_loss(preds, labels):\n",
    "    return (preds.sigmoid() - labels).abs().mean()\n",
    "\n",
    "def calc_grad(inputs, labels, model):\n",
    "    preds =  model(inputs)\n",
    "    loss = calc_loss(preds, labels)\n",
    "    loss.backward()\n",
    "\n",
    "def calc_accuracy(preds, labels):\n",
    "    corrects = (preds.sigmoid() > 0.5).float() == labels\n",
    "    return corrects.float().mean()\n",
    "\n",
    "def validate(model):\n",
    "    accs = [calc_accuracy(model(xb), yb) for xb,yb in dl_valid]\n",
    "    return round(torch.stack(accs).mean().item(), 4)"
   ]
  },
  {
   "cell_type": "markdown",
   "metadata": {},
   "source": [
    "Let's create an _Optimizer_ object which handles SDG for us"
   ]
  },
  {
   "cell_type": "code",
   "execution_count": 29,
   "metadata": {},
   "outputs": [],
   "source": [
    "class BasicOptimizer:\n",
    "    def __init__(self, params, lr):\n",
    "        self.params = list(params)\n",
    "        self.lr = lr\n",
    "\n",
    "    def step(self, *args, **kwargs):\n",
    "        for p in self.params: \n",
    "            p.data -= p.grad.data * self.lr\n",
    "\n",
    "    def zero_grad(self, *args, **kwargs):\n",
    "        for p in self.params:\n",
    "            p.grad = None"
   ]
  },
  {
   "cell_type": "markdown",
   "metadata": {},
   "source": [
    "And now put it all together:"
   ]
  },
  {
   "cell_type": "code",
   "execution_count": 30,
   "metadata": {},
   "outputs": [
    {
     "name": "stdout",
     "output_type": "stream",
     "text": [
      "0.8632\n",
      "0.918\n",
      "0.9343\n",
      "0.9416\n",
      "0.9495\n"
     ]
    }
   ],
   "source": [
    "opt = BasicOptimizer(linear_model.parameters(), 0.001)\n",
    "\n",
    "def train_epoch(model):\n",
    "    for xb, yb in dl:\n",
    "        calc_grad(xb, yb, model)\n",
    "        opt.step()\n",
    "        opt.zero_grad()\n",
    "\n",
    "for k in range (5):\n",
    "    train_epoch(linear_model)\n",
    "    print(validate(linear_model))"
   ]
  },
  {
   "cell_type": "markdown",
   "metadata": {},
   "source": [
    "We can replace our BasicOptimizer by fastai's SDG which does the same by default:"
   ]
  },
  {
   "cell_type": "code",
   "execution_count": 31,
   "metadata": {},
   "outputs": [
    {
     "name": "stdout",
     "output_type": "stream",
     "text": [
      "0.7193\n",
      "0.8258\n",
      "0.8798\n",
      "0.9121\n",
      "0.9248\n",
      "0.9367\n",
      "0.9431\n",
      "0.9466\n",
      "0.9506\n",
      "0.9534\n"
     ]
    }
   ],
   "source": [
    "linear_model = nn.Linear(28*28,1)\n",
    "opt = SGD(linear_model.parameters(), 0.001)\n",
    "\n",
    "def train_epoch(model):\n",
    "    for xb, yb in dl:\n",
    "        calc_grad(xb, yb, model)\n",
    "        opt.step()\n",
    "        opt.zero_grad()\n",
    "\n",
    "def train_model(model, epochs):\n",
    "    for k in range (epochs):\n",
    "        train_epoch(model)\n",
    "        print(validate(model))\n",
    "\n",
    "train_model(linear_model, 10)"
   ]
  },
  {
   "cell_type": "markdown",
   "metadata": {},
   "source": [
    "FastAI also provides `Learner.fit` that we can use instead of train_model. "
   ]
  },
  {
   "cell_type": "code",
   "execution_count": 32,
   "metadata": {},
   "outputs": [
    {
     "data": {
      "text/html": [
       "\n",
       "<style>\n",
       "    /* Turns off some styling */\n",
       "    progress {\n",
       "        /* gets rid of default border in Firefox and Opera. */\n",
       "        border: none;\n",
       "        /* Needs to be in here for Safari polyfill so background images work as expected. */\n",
       "        background-size: auto;\n",
       "    }\n",
       "    progress:not([value]), progress:not([value])::-webkit-progress-bar {\n",
       "        background: repeating-linear-gradient(45deg, #7e7e7e, #7e7e7e 10px, #5c5c5c 10px, #5c5c5c 20px);\n",
       "    }\n",
       "    .progress-bar-interrupted, .progress-bar-interrupted::-webkit-progress-bar {\n",
       "        background: #F44336;\n",
       "    }\n",
       "</style>\n"
      ],
      "text/plain": [
       "<IPython.core.display.HTML object>"
      ]
     },
     "metadata": {},
     "output_type": "display_data"
    },
    {
     "data": {
      "text/html": [
       "<table border=\"1\" class=\"dataframe\">\n",
       "  <thead>\n",
       "    <tr style=\"text-align: left;\">\n",
       "      <th>epoch</th>\n",
       "      <th>train_loss</th>\n",
       "      <th>valid_loss</th>\n",
       "      <th>calc_accuracy</th>\n",
       "      <th>time</th>\n",
       "    </tr>\n",
       "  </thead>\n",
       "  <tbody>\n",
       "    <tr>\n",
       "      <td>0</td>\n",
       "      <td>0.400941</td>\n",
       "      <td>0.326003</td>\n",
       "      <td>0.962709</td>\n",
       "      <td>00:00</td>\n",
       "    </tr>\n",
       "    <tr>\n",
       "      <td>1</td>\n",
       "      <td>0.304855</td>\n",
       "      <td>0.230018</td>\n",
       "      <td>0.962218</td>\n",
       "      <td>00:00</td>\n",
       "    </tr>\n",
       "    <tr>\n",
       "      <td>2</td>\n",
       "      <td>0.237246</td>\n",
       "      <td>0.181123</td>\n",
       "      <td>0.963690</td>\n",
       "      <td>00:00</td>\n",
       "    </tr>\n",
       "    <tr>\n",
       "      <td>3</td>\n",
       "      <td>0.191852</td>\n",
       "      <td>0.152850</td>\n",
       "      <td>0.963690</td>\n",
       "      <td>00:00</td>\n",
       "    </tr>\n",
       "    <tr>\n",
       "      <td>4</td>\n",
       "      <td>0.162056</td>\n",
       "      <td>0.134534</td>\n",
       "      <td>0.963690</td>\n",
       "      <td>00:00</td>\n",
       "    </tr>\n",
       "    <tr>\n",
       "      <td>5</td>\n",
       "      <td>0.140806</td>\n",
       "      <td>0.121673</td>\n",
       "      <td>0.964671</td>\n",
       "      <td>00:00</td>\n",
       "    </tr>\n",
       "    <tr>\n",
       "      <td>6</td>\n",
       "      <td>0.126230</td>\n",
       "      <td>0.112126</td>\n",
       "      <td>0.964671</td>\n",
       "      <td>00:00</td>\n",
       "    </tr>\n",
       "    <tr>\n",
       "      <td>7</td>\n",
       "      <td>0.115898</td>\n",
       "      <td>0.104701</td>\n",
       "      <td>0.964671</td>\n",
       "      <td>00:00</td>\n",
       "    </tr>\n",
       "    <tr>\n",
       "      <td>8</td>\n",
       "      <td>0.107522</td>\n",
       "      <td>0.098750</td>\n",
       "      <td>0.964671</td>\n",
       "      <td>00:00</td>\n",
       "    </tr>\n",
       "    <tr>\n",
       "      <td>9</td>\n",
       "      <td>0.100881</td>\n",
       "      <td>0.093855</td>\n",
       "      <td>0.964671</td>\n",
       "      <td>00:00</td>\n",
       "    </tr>\n",
       "  </tbody>\n",
       "</table>"
      ],
      "text/plain": [
       "<IPython.core.display.HTML object>"
      ]
     },
     "metadata": {},
     "output_type": "display_data"
    }
   ],
   "source": [
    "dls = DataLoaders(dl, dl_valid)\n",
    "learner = Learner(dls, nn.Linear(28*28,1), opt_func=SGD, loss_func=calc_loss, metrics=calc_accuracy)\n",
    "\n",
    "learner.fit(10, lr=0.01)"
   ]
  },
  {
   "cell_type": "markdown",
   "metadata": {},
   "source": [
    "#### Adding a Nonlinearity"
   ]
  },
  {
   "cell_type": "markdown",
   "metadata": {},
   "source": [
    "A single linear layer is pretty contrained. We can add multiple linear layers but that will still be linear. The trick is to add a non linear function, like `max` in between then. "
   ]
  },
  {
   "cell_type": "code",
   "execution_count": 33,
   "metadata": {},
   "outputs": [
    {
     "data": {
      "text/plain": [
       "tensor([[-76.5494],\n",
       "        [-74.6487],\n",
       "        [-27.5551],\n",
       "        [-35.1143],\n",
       "        [-53.3498],\n",
       "        [-33.3451],\n",
       "        [ -9.6097],\n",
       "        [-24.3070],\n",
       "        [ -9.3640],\n",
       "        [ -4.9018]], grad_fn=<AddBackward0>)"
      ]
     },
     "execution_count": 33,
     "metadata": {},
     "output_type": "execute_result"
    }
   ],
   "source": [
    "w1 = torch.randn(28*28,30).requires_grad_()\n",
    "b1 = torch.randn(30)\n",
    "\n",
    "w2 = torch.randn(30,1).requires_grad_()\n",
    "b2 = torch.randn(1)\n",
    "\n",
    "def simple_net(xb): \n",
    "    res = xb@w1 + b1                # linear layer\n",
    "    res = res.max(tensor(0.0))      # non linearity (or activation fuction)\n",
    "    res = res@w2 + b2               # linear layer\n",
    "    return res\n",
    "\n",
    "simple_net(train_x[:10])"
   ]
  },
  {
   "cell_type": "markdown",
   "metadata": {},
   "source": [
    "Using PyTorch instead:"
   ]
  },
  {
   "cell_type": "code",
   "execution_count": 34,
   "metadata": {},
   "outputs": [
    {
     "data": {
      "text/html": [
       "\n",
       "<style>\n",
       "    /* Turns off some styling */\n",
       "    progress {\n",
       "        /* gets rid of default border in Firefox and Opera. */\n",
       "        border: none;\n",
       "        /* Needs to be in here for Safari polyfill so background images work as expected. */\n",
       "        background-size: auto;\n",
       "    }\n",
       "    progress:not([value]), progress:not([value])::-webkit-progress-bar {\n",
       "        background: repeating-linear-gradient(45deg, #7e7e7e, #7e7e7e 10px, #5c5c5c 10px, #5c5c5c 20px);\n",
       "    }\n",
       "    .progress-bar-interrupted, .progress-bar-interrupted::-webkit-progress-bar {\n",
       "        background: #F44336;\n",
       "    }\n",
       "</style>\n"
      ],
      "text/plain": [
       "<IPython.core.display.HTML object>"
      ]
     },
     "metadata": {},
     "output_type": "display_data"
    },
    {
     "data": {
      "text/html": [
       "<table border=\"1\" class=\"dataframe\">\n",
       "  <thead>\n",
       "    <tr style=\"text-align: left;\">\n",
       "      <th>epoch</th>\n",
       "      <th>train_loss</th>\n",
       "      <th>valid_loss</th>\n",
       "      <th>calc_accuracy</th>\n",
       "      <th>time</th>\n",
       "    </tr>\n",
       "  </thead>\n",
       "  <tbody>\n",
       "    <tr>\n",
       "      <td>0</td>\n",
       "      <td>0.477388</td>\n",
       "      <td>0.460715</td>\n",
       "      <td>0.953386</td>\n",
       "      <td>00:00</td>\n",
       "    </tr>\n",
       "    <tr>\n",
       "      <td>1</td>\n",
       "      <td>0.446057</td>\n",
       "      <td>0.409082</td>\n",
       "      <td>0.970069</td>\n",
       "      <td>00:00</td>\n",
       "    </tr>\n",
       "    <tr>\n",
       "      <td>2</td>\n",
       "      <td>0.397831</td>\n",
       "      <td>0.339814</td>\n",
       "      <td>0.971050</td>\n",
       "      <td>00:00</td>\n",
       "    </tr>\n",
       "    <tr>\n",
       "      <td>3</td>\n",
       "      <td>0.336174</td>\n",
       "      <td>0.266948</td>\n",
       "      <td>0.972031</td>\n",
       "      <td>00:00</td>\n",
       "    </tr>\n",
       "    <tr>\n",
       "      <td>4</td>\n",
       "      <td>0.271519</td>\n",
       "      <td>0.205384</td>\n",
       "      <td>0.970069</td>\n",
       "      <td>00:00</td>\n",
       "    </tr>\n",
       "    <tr>\n",
       "      <td>5</td>\n",
       "      <td>0.215443</td>\n",
       "      <td>0.161276</td>\n",
       "      <td>0.969578</td>\n",
       "      <td>00:00</td>\n",
       "    </tr>\n",
       "    <tr>\n",
       "      <td>6</td>\n",
       "      <td>0.171730</td>\n",
       "      <td>0.131661</td>\n",
       "      <td>0.969578</td>\n",
       "      <td>00:00</td>\n",
       "    </tr>\n",
       "    <tr>\n",
       "      <td>7</td>\n",
       "      <td>0.141182</td>\n",
       "      <td>0.111714</td>\n",
       "      <td>0.968597</td>\n",
       "      <td>00:00</td>\n",
       "    </tr>\n",
       "    <tr>\n",
       "      <td>8</td>\n",
       "      <td>0.118688</td>\n",
       "      <td>0.097805</td>\n",
       "      <td>0.968106</td>\n",
       "      <td>00:00</td>\n",
       "    </tr>\n",
       "    <tr>\n",
       "      <td>9</td>\n",
       "      <td>0.102563</td>\n",
       "      <td>0.087700</td>\n",
       "      <td>0.968597</td>\n",
       "      <td>00:00</td>\n",
       "    </tr>\n",
       "    <tr>\n",
       "      <td>10</td>\n",
       "      <td>0.091545</td>\n",
       "      <td>0.080125</td>\n",
       "      <td>0.969087</td>\n",
       "      <td>00:00</td>\n",
       "    </tr>\n",
       "    <tr>\n",
       "      <td>11</td>\n",
       "      <td>0.082921</td>\n",
       "      <td>0.074241</td>\n",
       "      <td>0.969087</td>\n",
       "      <td>00:00</td>\n",
       "    </tr>\n",
       "    <tr>\n",
       "      <td>12</td>\n",
       "      <td>0.076491</td>\n",
       "      <td>0.069588</td>\n",
       "      <td>0.969087</td>\n",
       "      <td>00:00</td>\n",
       "    </tr>\n",
       "    <tr>\n",
       "      <td>13</td>\n",
       "      <td>0.071299</td>\n",
       "      <td>0.065775</td>\n",
       "      <td>0.969578</td>\n",
       "      <td>00:00</td>\n",
       "    </tr>\n",
       "    <tr>\n",
       "      <td>14</td>\n",
       "      <td>0.066835</td>\n",
       "      <td>0.062620</td>\n",
       "      <td>0.970559</td>\n",
       "      <td>00:00</td>\n",
       "    </tr>\n",
       "    <tr>\n",
       "      <td>15</td>\n",
       "      <td>0.063868</td>\n",
       "      <td>0.059957</td>\n",
       "      <td>0.971050</td>\n",
       "      <td>00:00</td>\n",
       "    </tr>\n",
       "    <tr>\n",
       "      <td>16</td>\n",
       "      <td>0.060498</td>\n",
       "      <td>0.057688</td>\n",
       "      <td>0.971050</td>\n",
       "      <td>00:00</td>\n",
       "    </tr>\n",
       "    <tr>\n",
       "      <td>17</td>\n",
       "      <td>0.057714</td>\n",
       "      <td>0.055730</td>\n",
       "      <td>0.970559</td>\n",
       "      <td>00:00</td>\n",
       "    </tr>\n",
       "    <tr>\n",
       "      <td>18</td>\n",
       "      <td>0.055836</td>\n",
       "      <td>0.053990</td>\n",
       "      <td>0.971050</td>\n",
       "      <td>00:00</td>\n",
       "    </tr>\n",
       "    <tr>\n",
       "      <td>19</td>\n",
       "      <td>0.053453</td>\n",
       "      <td>0.052465</td>\n",
       "      <td>0.971050</td>\n",
       "      <td>00:00</td>\n",
       "    </tr>\n",
       "    <tr>\n",
       "      <td>20</td>\n",
       "      <td>0.051429</td>\n",
       "      <td>0.051113</td>\n",
       "      <td>0.971050</td>\n",
       "      <td>00:00</td>\n",
       "    </tr>\n",
       "    <tr>\n",
       "      <td>21</td>\n",
       "      <td>0.049816</td>\n",
       "      <td>0.049894</td>\n",
       "      <td>0.971050</td>\n",
       "      <td>00:00</td>\n",
       "    </tr>\n",
       "    <tr>\n",
       "      <td>22</td>\n",
       "      <td>0.048577</td>\n",
       "      <td>0.048794</td>\n",
       "      <td>0.971050</td>\n",
       "      <td>00:00</td>\n",
       "    </tr>\n",
       "    <tr>\n",
       "      <td>23</td>\n",
       "      <td>0.047564</td>\n",
       "      <td>0.047781</td>\n",
       "      <td>0.971050</td>\n",
       "      <td>00:00</td>\n",
       "    </tr>\n",
       "    <tr>\n",
       "      <td>24</td>\n",
       "      <td>0.046206</td>\n",
       "      <td>0.046870</td>\n",
       "      <td>0.971541</td>\n",
       "      <td>00:00</td>\n",
       "    </tr>\n",
       "    <tr>\n",
       "      <td>25</td>\n",
       "      <td>0.044989</td>\n",
       "      <td>0.046005</td>\n",
       "      <td>0.971541</td>\n",
       "      <td>00:00</td>\n",
       "    </tr>\n",
       "    <tr>\n",
       "      <td>26</td>\n",
       "      <td>0.044344</td>\n",
       "      <td>0.045228</td>\n",
       "      <td>0.971541</td>\n",
       "      <td>00:00</td>\n",
       "    </tr>\n",
       "    <tr>\n",
       "      <td>27</td>\n",
       "      <td>0.043395</td>\n",
       "      <td>0.044532</td>\n",
       "      <td>0.971541</td>\n",
       "      <td>00:00</td>\n",
       "    </tr>\n",
       "    <tr>\n",
       "      <td>28</td>\n",
       "      <td>0.042230</td>\n",
       "      <td>0.043874</td>\n",
       "      <td>0.971050</td>\n",
       "      <td>00:00</td>\n",
       "    </tr>\n",
       "    <tr>\n",
       "      <td>29</td>\n",
       "      <td>0.041505</td>\n",
       "      <td>0.043255</td>\n",
       "      <td>0.971050</td>\n",
       "      <td>00:00</td>\n",
       "    </tr>\n",
       "    <tr>\n",
       "      <td>30</td>\n",
       "      <td>0.040467</td>\n",
       "      <td>0.042680</td>\n",
       "      <td>0.971050</td>\n",
       "      <td>00:00</td>\n",
       "    </tr>\n",
       "    <tr>\n",
       "      <td>31</td>\n",
       "      <td>0.040163</td>\n",
       "      <td>0.042128</td>\n",
       "      <td>0.971050</td>\n",
       "      <td>00:00</td>\n",
       "    </tr>\n",
       "    <tr>\n",
       "      <td>32</td>\n",
       "      <td>0.039515</td>\n",
       "      <td>0.041608</td>\n",
       "      <td>0.971050</td>\n",
       "      <td>00:00</td>\n",
       "    </tr>\n",
       "    <tr>\n",
       "      <td>33</td>\n",
       "      <td>0.039222</td>\n",
       "      <td>0.041110</td>\n",
       "      <td>0.971541</td>\n",
       "      <td>00:00</td>\n",
       "    </tr>\n",
       "    <tr>\n",
       "      <td>34</td>\n",
       "      <td>0.038361</td>\n",
       "      <td>0.040652</td>\n",
       "      <td>0.971541</td>\n",
       "      <td>00:00</td>\n",
       "    </tr>\n",
       "    <tr>\n",
       "      <td>35</td>\n",
       "      <td>0.037863</td>\n",
       "      <td>0.040222</td>\n",
       "      <td>0.971050</td>\n",
       "      <td>00:00</td>\n",
       "    </tr>\n",
       "    <tr>\n",
       "      <td>36</td>\n",
       "      <td>0.037777</td>\n",
       "      <td>0.039819</td>\n",
       "      <td>0.971050</td>\n",
       "      <td>00:00</td>\n",
       "    </tr>\n",
       "    <tr>\n",
       "      <td>37</td>\n",
       "      <td>0.037353</td>\n",
       "      <td>0.039425</td>\n",
       "      <td>0.971050</td>\n",
       "      <td>00:00</td>\n",
       "    </tr>\n",
       "    <tr>\n",
       "      <td>38</td>\n",
       "      <td>0.036742</td>\n",
       "      <td>0.039036</td>\n",
       "      <td>0.971541</td>\n",
       "      <td>00:00</td>\n",
       "    </tr>\n",
       "    <tr>\n",
       "      <td>39</td>\n",
       "      <td>0.035383</td>\n",
       "      <td>0.038687</td>\n",
       "      <td>0.971541</td>\n",
       "      <td>00:00</td>\n",
       "    </tr>\n",
       "  </tbody>\n",
       "</table>"
      ],
      "text/plain": [
       "<IPython.core.display.HTML object>"
      ]
     },
     "metadata": {},
     "output_type": "display_data"
    }
   ],
   "source": [
    "simple_net = nn.Sequential(\n",
    "    nn.Linear(28*28, 30),\n",
    "    nn.ReLU(),\n",
    "    nn.Linear(30, 1)\n",
    ")\n",
    "\n",
    "learn = Learner(dls, simple_net, opt_func=SGD,\n",
    "                loss_func=calc_loss, metrics=calc_accuracy)\n",
    "\n",
    "learn.fit(40, 0.01)"
   ]
  }
 ],
 "metadata": {
  "kernelspec": {
   "display_name": "ds",
   "language": "python",
   "name": "python3"
  },
  "language_info": {
   "codemirror_mode": {
    "name": "ipython",
    "version": 3
   },
   "file_extension": ".py",
   "mimetype": "text/x-python",
   "name": "python",
   "nbconvert_exporter": "python",
   "pygments_lexer": "ipython3",
   "version": "3.12.1"
  }
 },
 "nbformat": 4,
 "nbformat_minor": 2
}
